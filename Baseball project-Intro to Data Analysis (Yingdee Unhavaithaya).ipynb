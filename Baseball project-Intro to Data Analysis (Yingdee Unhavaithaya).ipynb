{
 "cells": [
  {
   "cell_type": "code",
   "execution_count": 178,
   "metadata": {
    "collapsed": false
   },
   "outputs": [
    {
     "name": "stdout",
     "output_type": "stream",
     "text": [
      "Populating the interactive namespace from numpy and matplotlib\n",
      "height has been deprecated.\n",
      "\n"
     ]
    }
   ],
   "source": [
    "import matplotlib.pyplot as plt\n",
    "import numpy as np\n",
    "import pandas as pd\n",
    "import seaborn as sns\n",
    "import math\n",
    "%pylab inline\n",
    "pd.set_option('display.height', 1000)\n",
    "pd.set_option('display.max_rows', 500)\n",
    "pd.set_option('display.max_columns', 500)\n",
    "pd.set_option('display.width', 1000)"
   ]
  },
  {
   "cell_type": "markdown",
   "metadata": {},
   "source": [
    "# Main questions: Which commonly known batting stats (pre-season) has highest impact on salary?  How is the impact in context of average salary?\n",
    "Strategy: \n",
    "1. Create dataframe \n",
    "    -Focus on batting metrics that are typically displayed in baseball games, on TV\n",
    "      - BA : (Hits/At bats). Using pandas to create H/AB columns in batting dataframe\n",
    "      - HR : homerun\n",
    "      - RBI : RBI\n",
    "      - SO : strikeout\n",
    "      - BB : walk\n",
    "      \n",
    "2. Statistical test\n",
    "    - use Pearson's R test to find the magnitude of correlation between the above stats and salary.\n",
    "\n",
    "3. Plotting batting stats v.s. salary \n",
    "    - Plot to visualize the above batting stats' correlation with salary\n"
   ]
  },
  {
   "cell_type": "markdown",
   "metadata": {},
   "source": [
    "# Creating dataframe for batting (pre-season)"
   ]
  },
  {
   "cell_type": "code",
   "execution_count": 179,
   "metadata": {
    "collapsed": false
   },
   "outputs": [],
   "source": [
    "#function for reading csv files into dataframe\n",
    "def read_csv(filename):\n",
    "    reader = pd.read_csv(filename)\n",
    "    return reader"
   ]
  },
  {
   "cell_type": "markdown",
   "metadata": {},
   "source": [
    "Read files for batting and salary"
   ]
  },
  {
   "cell_type": "code",
   "execution_count": 180,
   "metadata": {
    "collapsed": false
   },
   "outputs": [
    {
     "data": {
      "text/html": [
       "<div>\n",
       "<table border=\"1\" class=\"dataframe\">\n",
       "  <thead>\n",
       "    <tr style=\"text-align: right;\">\n",
       "      <th></th>\n",
       "      <th>playerID</th>\n",
       "      <th>yearID</th>\n",
       "      <th>stint</th>\n",
       "      <th>teamID</th>\n",
       "      <th>lgID</th>\n",
       "      <th>G</th>\n",
       "      <th>AB</th>\n",
       "      <th>R</th>\n",
       "      <th>H</th>\n",
       "      <th>2B</th>\n",
       "      <th>3B</th>\n",
       "      <th>HR</th>\n",
       "      <th>RBI</th>\n",
       "      <th>SB</th>\n",
       "      <th>CS</th>\n",
       "      <th>BB</th>\n",
       "      <th>SO</th>\n",
       "      <th>IBB</th>\n",
       "      <th>HBP</th>\n",
       "      <th>SH</th>\n",
       "      <th>SF</th>\n",
       "      <th>GIDP</th>\n",
       "    </tr>\n",
       "  </thead>\n",
       "  <tbody>\n",
       "    <tr>\n",
       "      <th>0</th>\n",
       "      <td>abercda01</td>\n",
       "      <td>1871</td>\n",
       "      <td>1</td>\n",
       "      <td>TRO</td>\n",
       "      <td>NaN</td>\n",
       "      <td>1</td>\n",
       "      <td>4.0</td>\n",
       "      <td>0.0</td>\n",
       "      <td>0.0</td>\n",
       "      <td>0.0</td>\n",
       "      <td>0.0</td>\n",
       "      <td>0.0</td>\n",
       "      <td>0.0</td>\n",
       "      <td>0.0</td>\n",
       "      <td>0.0</td>\n",
       "      <td>0.0</td>\n",
       "      <td>0.0</td>\n",
       "      <td>NaN</td>\n",
       "      <td>NaN</td>\n",
       "      <td>NaN</td>\n",
       "      <td>NaN</td>\n",
       "      <td>NaN</td>\n",
       "    </tr>\n",
       "    <tr>\n",
       "      <th>1</th>\n",
       "      <td>addybo01</td>\n",
       "      <td>1871</td>\n",
       "      <td>1</td>\n",
       "      <td>RC1</td>\n",
       "      <td>NaN</td>\n",
       "      <td>25</td>\n",
       "      <td>118.0</td>\n",
       "      <td>30.0</td>\n",
       "      <td>32.0</td>\n",
       "      <td>6.0</td>\n",
       "      <td>0.0</td>\n",
       "      <td>0.0</td>\n",
       "      <td>13.0</td>\n",
       "      <td>8.0</td>\n",
       "      <td>1.0</td>\n",
       "      <td>4.0</td>\n",
       "      <td>0.0</td>\n",
       "      <td>NaN</td>\n",
       "      <td>NaN</td>\n",
       "      <td>NaN</td>\n",
       "      <td>NaN</td>\n",
       "      <td>NaN</td>\n",
       "    </tr>\n",
       "    <tr>\n",
       "      <th>2</th>\n",
       "      <td>allisar01</td>\n",
       "      <td>1871</td>\n",
       "      <td>1</td>\n",
       "      <td>CL1</td>\n",
       "      <td>NaN</td>\n",
       "      <td>29</td>\n",
       "      <td>137.0</td>\n",
       "      <td>28.0</td>\n",
       "      <td>40.0</td>\n",
       "      <td>4.0</td>\n",
       "      <td>5.0</td>\n",
       "      <td>0.0</td>\n",
       "      <td>19.0</td>\n",
       "      <td>3.0</td>\n",
       "      <td>1.0</td>\n",
       "      <td>2.0</td>\n",
       "      <td>5.0</td>\n",
       "      <td>NaN</td>\n",
       "      <td>NaN</td>\n",
       "      <td>NaN</td>\n",
       "      <td>NaN</td>\n",
       "      <td>NaN</td>\n",
       "    </tr>\n",
       "    <tr>\n",
       "      <th>3</th>\n",
       "      <td>allisdo01</td>\n",
       "      <td>1871</td>\n",
       "      <td>1</td>\n",
       "      <td>WS3</td>\n",
       "      <td>NaN</td>\n",
       "      <td>27</td>\n",
       "      <td>133.0</td>\n",
       "      <td>28.0</td>\n",
       "      <td>44.0</td>\n",
       "      <td>10.0</td>\n",
       "      <td>2.0</td>\n",
       "      <td>2.0</td>\n",
       "      <td>27.0</td>\n",
       "      <td>1.0</td>\n",
       "      <td>1.0</td>\n",
       "      <td>0.0</td>\n",
       "      <td>2.0</td>\n",
       "      <td>NaN</td>\n",
       "      <td>NaN</td>\n",
       "      <td>NaN</td>\n",
       "      <td>NaN</td>\n",
       "      <td>NaN</td>\n",
       "    </tr>\n",
       "    <tr>\n",
       "      <th>4</th>\n",
       "      <td>ansonca01</td>\n",
       "      <td>1871</td>\n",
       "      <td>1</td>\n",
       "      <td>RC1</td>\n",
       "      <td>NaN</td>\n",
       "      <td>25</td>\n",
       "      <td>120.0</td>\n",
       "      <td>29.0</td>\n",
       "      <td>39.0</td>\n",
       "      <td>11.0</td>\n",
       "      <td>3.0</td>\n",
       "      <td>0.0</td>\n",
       "      <td>16.0</td>\n",
       "      <td>6.0</td>\n",
       "      <td>2.0</td>\n",
       "      <td>2.0</td>\n",
       "      <td>1.0</td>\n",
       "      <td>NaN</td>\n",
       "      <td>NaN</td>\n",
       "      <td>NaN</td>\n",
       "      <td>NaN</td>\n",
       "      <td>NaN</td>\n",
       "    </tr>\n",
       "  </tbody>\n",
       "</table>\n",
       "</div>"
      ],
      "text/plain": [
       "    playerID  yearID  stint teamID lgID   G     AB     R     H    2B   3B   HR   RBI   SB   CS   BB   SO  IBB  HBP  SH  SF  GIDP\n",
       "0  abercda01    1871      1    TRO  NaN   1    4.0   0.0   0.0   0.0  0.0  0.0   0.0  0.0  0.0  0.0  0.0  NaN  NaN NaN NaN   NaN\n",
       "1   addybo01    1871      1    RC1  NaN  25  118.0  30.0  32.0   6.0  0.0  0.0  13.0  8.0  1.0  4.0  0.0  NaN  NaN NaN NaN   NaN\n",
       "2  allisar01    1871      1    CL1  NaN  29  137.0  28.0  40.0   4.0  5.0  0.0  19.0  3.0  1.0  2.0  5.0  NaN  NaN NaN NaN   NaN\n",
       "3  allisdo01    1871      1    WS3  NaN  27  133.0  28.0  44.0  10.0  2.0  2.0  27.0  1.0  1.0  0.0  2.0  NaN  NaN NaN NaN   NaN\n",
       "4  ansonca01    1871      1    RC1  NaN  25  120.0  29.0  39.0  11.0  3.0  0.0  16.0  6.0  2.0  2.0  1.0  NaN  NaN NaN NaN   NaN"
      ]
     },
     "execution_count": 180,
     "metadata": {},
     "output_type": "execute_result"
    }
   ],
   "source": [
    "batting = read_csv('Batting.csv' )\n",
    "batting.head()"
   ]
  },
  {
   "cell_type": "code",
   "execution_count": 181,
   "metadata": {
    "collapsed": false
   },
   "outputs": [
    {
     "data": {
      "text/html": [
       "<div>\n",
       "<table border=\"1\" class=\"dataframe\">\n",
       "  <thead>\n",
       "    <tr style=\"text-align: right;\">\n",
       "      <th></th>\n",
       "      <th>yearID</th>\n",
       "      <th>teamID</th>\n",
       "      <th>lgID</th>\n",
       "      <th>playerID</th>\n",
       "      <th>salary</th>\n",
       "    </tr>\n",
       "  </thead>\n",
       "  <tbody>\n",
       "    <tr>\n",
       "      <th>0</th>\n",
       "      <td>1985</td>\n",
       "      <td>ATL</td>\n",
       "      <td>NL</td>\n",
       "      <td>barkele01</td>\n",
       "      <td>870000</td>\n",
       "    </tr>\n",
       "    <tr>\n",
       "      <th>1</th>\n",
       "      <td>1985</td>\n",
       "      <td>ATL</td>\n",
       "      <td>NL</td>\n",
       "      <td>bedrost01</td>\n",
       "      <td>550000</td>\n",
       "    </tr>\n",
       "    <tr>\n",
       "      <th>2</th>\n",
       "      <td>1985</td>\n",
       "      <td>ATL</td>\n",
       "      <td>NL</td>\n",
       "      <td>benedbr01</td>\n",
       "      <td>545000</td>\n",
       "    </tr>\n",
       "    <tr>\n",
       "      <th>3</th>\n",
       "      <td>1985</td>\n",
       "      <td>ATL</td>\n",
       "      <td>NL</td>\n",
       "      <td>campri01</td>\n",
       "      <td>633333</td>\n",
       "    </tr>\n",
       "    <tr>\n",
       "      <th>4</th>\n",
       "      <td>1985</td>\n",
       "      <td>ATL</td>\n",
       "      <td>NL</td>\n",
       "      <td>ceronri01</td>\n",
       "      <td>625000</td>\n",
       "    </tr>\n",
       "  </tbody>\n",
       "</table>\n",
       "</div>"
      ],
      "text/plain": [
       "   yearID teamID lgID   playerID  salary\n",
       "0    1985    ATL   NL  barkele01  870000\n",
       "1    1985    ATL   NL  bedrost01  550000\n",
       "2    1985    ATL   NL  benedbr01  545000\n",
       "3    1985    ATL   NL   campri01  633333\n",
       "4    1985    ATL   NL  ceronri01  625000"
      ]
     },
     "execution_count": 181,
     "metadata": {},
     "output_type": "execute_result"
    }
   ],
   "source": [
    "salaries = read_csv('Salaries.csv' )\n",
    "salaries.head()"
   ]
  },
  {
   "cell_type": "markdown",
   "metadata": {},
   "source": [
    "# Creating a column in the dataframe for players' batting average"
   ]
  },
  {
   "cell_type": "markdown",
   "metadata": {},
   "source": [
    "Plan\n",
    "1. creating a new 'BA'(batting average) column, and use groupby() to group players.\n",
    "2. merging salaries dataframe and batting dataframe (with batting average) using playerID that is common to the list salaries. "
   ]
  },
  {
   "cell_type": "code",
   "execution_count": 182,
   "metadata": {
    "collapsed": false
   },
   "outputs": [
    {
     "data": {
      "text/html": [
       "<div>\n",
       "<table border=\"1\" class=\"dataframe\">\n",
       "  <thead>\n",
       "    <tr style=\"text-align: right;\">\n",
       "      <th></th>\n",
       "      <th>playerID</th>\n",
       "      <th>yearID</th>\n",
       "      <th>stint</th>\n",
       "      <th>teamID</th>\n",
       "      <th>lgID</th>\n",
       "      <th>G</th>\n",
       "      <th>AB</th>\n",
       "      <th>R</th>\n",
       "      <th>H</th>\n",
       "      <th>2B</th>\n",
       "      <th>3B</th>\n",
       "      <th>HR</th>\n",
       "      <th>RBI</th>\n",
       "      <th>SB</th>\n",
       "      <th>CS</th>\n",
       "      <th>BB</th>\n",
       "      <th>SO</th>\n",
       "      <th>IBB</th>\n",
       "      <th>HBP</th>\n",
       "      <th>SH</th>\n",
       "      <th>SF</th>\n",
       "      <th>GIDP</th>\n",
       "      <th>BA</th>\n",
       "    </tr>\n",
       "  </thead>\n",
       "  <tbody>\n",
       "    <tr>\n",
       "      <th>0</th>\n",
       "      <td>abercda01</td>\n",
       "      <td>1871</td>\n",
       "      <td>1</td>\n",
       "      <td>TRO</td>\n",
       "      <td>NaN</td>\n",
       "      <td>1</td>\n",
       "      <td>4.0</td>\n",
       "      <td>0.0</td>\n",
       "      <td>0.0</td>\n",
       "      <td>0.0</td>\n",
       "      <td>0.0</td>\n",
       "      <td>0.0</td>\n",
       "      <td>0.0</td>\n",
       "      <td>0.0</td>\n",
       "      <td>0.0</td>\n",
       "      <td>0.0</td>\n",
       "      <td>0.0</td>\n",
       "      <td>NaN</td>\n",
       "      <td>NaN</td>\n",
       "      <td>NaN</td>\n",
       "      <td>NaN</td>\n",
       "      <td>NaN</td>\n",
       "      <td>0.000000</td>\n",
       "    </tr>\n",
       "    <tr>\n",
       "      <th>1</th>\n",
       "      <td>addybo01</td>\n",
       "      <td>1871</td>\n",
       "      <td>1</td>\n",
       "      <td>RC1</td>\n",
       "      <td>NaN</td>\n",
       "      <td>25</td>\n",
       "      <td>118.0</td>\n",
       "      <td>30.0</td>\n",
       "      <td>32.0</td>\n",
       "      <td>6.0</td>\n",
       "      <td>0.0</td>\n",
       "      <td>0.0</td>\n",
       "      <td>13.0</td>\n",
       "      <td>8.0</td>\n",
       "      <td>1.0</td>\n",
       "      <td>4.0</td>\n",
       "      <td>0.0</td>\n",
       "      <td>NaN</td>\n",
       "      <td>NaN</td>\n",
       "      <td>NaN</td>\n",
       "      <td>NaN</td>\n",
       "      <td>NaN</td>\n",
       "      <td>0.271186</td>\n",
       "    </tr>\n",
       "    <tr>\n",
       "      <th>2</th>\n",
       "      <td>allisar01</td>\n",
       "      <td>1871</td>\n",
       "      <td>1</td>\n",
       "      <td>CL1</td>\n",
       "      <td>NaN</td>\n",
       "      <td>29</td>\n",
       "      <td>137.0</td>\n",
       "      <td>28.0</td>\n",
       "      <td>40.0</td>\n",
       "      <td>4.0</td>\n",
       "      <td>5.0</td>\n",
       "      <td>0.0</td>\n",
       "      <td>19.0</td>\n",
       "      <td>3.0</td>\n",
       "      <td>1.0</td>\n",
       "      <td>2.0</td>\n",
       "      <td>5.0</td>\n",
       "      <td>NaN</td>\n",
       "      <td>NaN</td>\n",
       "      <td>NaN</td>\n",
       "      <td>NaN</td>\n",
       "      <td>NaN</td>\n",
       "      <td>0.291971</td>\n",
       "    </tr>\n",
       "    <tr>\n",
       "      <th>3</th>\n",
       "      <td>allisdo01</td>\n",
       "      <td>1871</td>\n",
       "      <td>1</td>\n",
       "      <td>WS3</td>\n",
       "      <td>NaN</td>\n",
       "      <td>27</td>\n",
       "      <td>133.0</td>\n",
       "      <td>28.0</td>\n",
       "      <td>44.0</td>\n",
       "      <td>10.0</td>\n",
       "      <td>2.0</td>\n",
       "      <td>2.0</td>\n",
       "      <td>27.0</td>\n",
       "      <td>1.0</td>\n",
       "      <td>1.0</td>\n",
       "      <td>0.0</td>\n",
       "      <td>2.0</td>\n",
       "      <td>NaN</td>\n",
       "      <td>NaN</td>\n",
       "      <td>NaN</td>\n",
       "      <td>NaN</td>\n",
       "      <td>NaN</td>\n",
       "      <td>0.330827</td>\n",
       "    </tr>\n",
       "    <tr>\n",
       "      <th>4</th>\n",
       "      <td>ansonca01</td>\n",
       "      <td>1871</td>\n",
       "      <td>1</td>\n",
       "      <td>RC1</td>\n",
       "      <td>NaN</td>\n",
       "      <td>25</td>\n",
       "      <td>120.0</td>\n",
       "      <td>29.0</td>\n",
       "      <td>39.0</td>\n",
       "      <td>11.0</td>\n",
       "      <td>3.0</td>\n",
       "      <td>0.0</td>\n",
       "      <td>16.0</td>\n",
       "      <td>6.0</td>\n",
       "      <td>2.0</td>\n",
       "      <td>2.0</td>\n",
       "      <td>1.0</td>\n",
       "      <td>NaN</td>\n",
       "      <td>NaN</td>\n",
       "      <td>NaN</td>\n",
       "      <td>NaN</td>\n",
       "      <td>NaN</td>\n",
       "      <td>0.325000</td>\n",
       "    </tr>\n",
       "  </tbody>\n",
       "</table>\n",
       "</div>"
      ],
      "text/plain": [
       "    playerID  yearID  stint teamID lgID   G     AB     R     H    2B   3B   HR   RBI   SB   CS   BB   SO  IBB  HBP  SH  SF  GIDP        BA\n",
       "0  abercda01    1871      1    TRO  NaN   1    4.0   0.0   0.0   0.0  0.0  0.0   0.0  0.0  0.0  0.0  0.0  NaN  NaN NaN NaN   NaN  0.000000\n",
       "1   addybo01    1871      1    RC1  NaN  25  118.0  30.0  32.0   6.0  0.0  0.0  13.0  8.0  1.0  4.0  0.0  NaN  NaN NaN NaN   NaN  0.271186\n",
       "2  allisar01    1871      1    CL1  NaN  29  137.0  28.0  40.0   4.0  5.0  0.0  19.0  3.0  1.0  2.0  5.0  NaN  NaN NaN NaN   NaN  0.291971\n",
       "3  allisdo01    1871      1    WS3  NaN  27  133.0  28.0  44.0  10.0  2.0  2.0  27.0  1.0  1.0  0.0  2.0  NaN  NaN NaN NaN   NaN  0.330827\n",
       "4  ansonca01    1871      1    RC1  NaN  25  120.0  29.0  39.0  11.0  3.0  0.0  16.0  6.0  2.0  2.0  1.0  NaN  NaN NaN NaN   NaN  0.325000"
      ]
     },
     "execution_count": 182,
     "metadata": {},
     "output_type": "execute_result"
    }
   ],
   "source": [
    "#Insert new 'BA' column\n",
    "batting ['BA'] = batting['H']/batting['AB']\n",
    "batting.head() # after looking at batting as a whole, records with 'NaN' BA is due to 0.0 H/0.0 AB"
   ]
  },
  {
   "cell_type": "markdown",
   "metadata": {},
   "source": [
    "Limit the batting dataframe to a subset of player within the last 5 years (2010-2015)"
   ]
  },
  {
   "cell_type": "code",
   "execution_count": 183,
   "metadata": {
    "collapsed": false
   },
   "outputs": [
    {
     "data": {
      "text/html": [
       "<div>\n",
       "<table border=\"1\" class=\"dataframe\">\n",
       "  <thead>\n",
       "    <tr style=\"text-align: right;\">\n",
       "      <th></th>\n",
       "      <th>playerID</th>\n",
       "      <th>yearID</th>\n",
       "      <th>stint</th>\n",
       "      <th>teamID</th>\n",
       "      <th>lgID</th>\n",
       "      <th>G</th>\n",
       "      <th>AB</th>\n",
       "      <th>R</th>\n",
       "      <th>H</th>\n",
       "      <th>2B</th>\n",
       "      <th>3B</th>\n",
       "      <th>HR</th>\n",
       "      <th>RBI</th>\n",
       "      <th>SB</th>\n",
       "      <th>CS</th>\n",
       "      <th>BB</th>\n",
       "      <th>SO</th>\n",
       "      <th>IBB</th>\n",
       "      <th>HBP</th>\n",
       "      <th>SH</th>\n",
       "      <th>SF</th>\n",
       "      <th>GIDP</th>\n",
       "      <th>BA</th>\n",
       "    </tr>\n",
       "  </thead>\n",
       "  <tbody>\n",
       "    <tr>\n",
       "      <th>92849</th>\n",
       "      <td>aardsda01</td>\n",
       "      <td>2010</td>\n",
       "      <td>1</td>\n",
       "      <td>SEA</td>\n",
       "      <td>AL</td>\n",
       "      <td>53</td>\n",
       "      <td>0.0</td>\n",
       "      <td>0.0</td>\n",
       "      <td>0.0</td>\n",
       "      <td>0.0</td>\n",
       "      <td>0.0</td>\n",
       "      <td>0.0</td>\n",
       "      <td>0.0</td>\n",
       "      <td>0.0</td>\n",
       "      <td>0.0</td>\n",
       "      <td>0.0</td>\n",
       "      <td>0.0</td>\n",
       "      <td>0.0</td>\n",
       "      <td>0.0</td>\n",
       "      <td>0.0</td>\n",
       "      <td>0.0</td>\n",
       "      <td>0.0</td>\n",
       "      <td>NaN</td>\n",
       "    </tr>\n",
       "    <tr>\n",
       "      <th>92850</th>\n",
       "      <td>abadfe01</td>\n",
       "      <td>2010</td>\n",
       "      <td>1</td>\n",
       "      <td>HOU</td>\n",
       "      <td>NL</td>\n",
       "      <td>22</td>\n",
       "      <td>1.0</td>\n",
       "      <td>0.0</td>\n",
       "      <td>0.0</td>\n",
       "      <td>0.0</td>\n",
       "      <td>0.0</td>\n",
       "      <td>0.0</td>\n",
       "      <td>0.0</td>\n",
       "      <td>0.0</td>\n",
       "      <td>0.0</td>\n",
       "      <td>0.0</td>\n",
       "      <td>1.0</td>\n",
       "      <td>0.0</td>\n",
       "      <td>0.0</td>\n",
       "      <td>0.0</td>\n",
       "      <td>0.0</td>\n",
       "      <td>0.0</td>\n",
       "      <td>0.000000</td>\n",
       "    </tr>\n",
       "    <tr>\n",
       "      <th>92851</th>\n",
       "      <td>abreubo01</td>\n",
       "      <td>2010</td>\n",
       "      <td>1</td>\n",
       "      <td>LAA</td>\n",
       "      <td>AL</td>\n",
       "      <td>154</td>\n",
       "      <td>573.0</td>\n",
       "      <td>88.0</td>\n",
       "      <td>146.0</td>\n",
       "      <td>41.0</td>\n",
       "      <td>1.0</td>\n",
       "      <td>20.0</td>\n",
       "      <td>78.0</td>\n",
       "      <td>24.0</td>\n",
       "      <td>10.0</td>\n",
       "      <td>87.0</td>\n",
       "      <td>132.0</td>\n",
       "      <td>3.0</td>\n",
       "      <td>2.0</td>\n",
       "      <td>0.0</td>\n",
       "      <td>5.0</td>\n",
       "      <td>13.0</td>\n",
       "      <td>0.254799</td>\n",
       "    </tr>\n",
       "    <tr>\n",
       "      <th>92852</th>\n",
       "      <td>abreuto01</td>\n",
       "      <td>2010</td>\n",
       "      <td>1</td>\n",
       "      <td>ARI</td>\n",
       "      <td>NL</td>\n",
       "      <td>81</td>\n",
       "      <td>193.0</td>\n",
       "      <td>16.0</td>\n",
       "      <td>45.0</td>\n",
       "      <td>11.0</td>\n",
       "      <td>1.0</td>\n",
       "      <td>1.0</td>\n",
       "      <td>13.0</td>\n",
       "      <td>2.0</td>\n",
       "      <td>1.0</td>\n",
       "      <td>4.0</td>\n",
       "      <td>47.0</td>\n",
       "      <td>0.0</td>\n",
       "      <td>0.0</td>\n",
       "      <td>0.0</td>\n",
       "      <td>4.0</td>\n",
       "      <td>8.0</td>\n",
       "      <td>0.233161</td>\n",
       "    </tr>\n",
       "    <tr>\n",
       "      <th>92853</th>\n",
       "      <td>accarje01</td>\n",
       "      <td>2010</td>\n",
       "      <td>1</td>\n",
       "      <td>TOR</td>\n",
       "      <td>AL</td>\n",
       "      <td>5</td>\n",
       "      <td>0.0</td>\n",
       "      <td>0.0</td>\n",
       "      <td>0.0</td>\n",
       "      <td>0.0</td>\n",
       "      <td>0.0</td>\n",
       "      <td>0.0</td>\n",
       "      <td>0.0</td>\n",
       "      <td>0.0</td>\n",
       "      <td>0.0</td>\n",
       "      <td>0.0</td>\n",
       "      <td>0.0</td>\n",
       "      <td>0.0</td>\n",
       "      <td>0.0</td>\n",
       "      <td>0.0</td>\n",
       "      <td>0.0</td>\n",
       "      <td>0.0</td>\n",
       "      <td>NaN</td>\n",
       "    </tr>\n",
       "  </tbody>\n",
       "</table>\n",
       "</div>"
      ],
      "text/plain": [
       "        playerID  yearID  stint teamID lgID    G     AB     R      H    2B   3B    HR   RBI    SB    CS    BB     SO  IBB  HBP   SH   SF  GIDP        BA\n",
       "92849  aardsda01    2010      1    SEA   AL   53    0.0   0.0    0.0   0.0  0.0   0.0   0.0   0.0   0.0   0.0    0.0  0.0  0.0  0.0  0.0   0.0       NaN\n",
       "92850   abadfe01    2010      1    HOU   NL   22    1.0   0.0    0.0   0.0  0.0   0.0   0.0   0.0   0.0   0.0    1.0  0.0  0.0  0.0  0.0   0.0  0.000000\n",
       "92851  abreubo01    2010      1    LAA   AL  154  573.0  88.0  146.0  41.0  1.0  20.0  78.0  24.0  10.0  87.0  132.0  3.0  2.0  0.0  5.0  13.0  0.254799\n",
       "92852  abreuto01    2010      1    ARI   NL   81  193.0  16.0   45.0  11.0  1.0   1.0  13.0   2.0   1.0   4.0   47.0  0.0  0.0  0.0  4.0   8.0  0.233161\n",
       "92853  accarje01    2010      1    TOR   AL    5    0.0   0.0    0.0   0.0  0.0   0.0   0.0   0.0   0.0   0.0    0.0  0.0  0.0  0.0  0.0   0.0       NaN"
      ]
     },
     "execution_count": 183,
     "metadata": {},
     "output_type": "execute_result"
    }
   ],
   "source": [
    "select_batting_last5yrs = batting['yearID'] >=2010\n",
    "batting_last5yrs = batting [select_batting_last5yrs]\n",
    "batting_last5yrs.head()"
   ]
  },
  {
   "cell_type": "markdown",
   "metadata": {},
   "source": [
    "Get rid of BA row that is NaN or 0.00, which is due to player haveing 0.0 H or 0.0 AB"
   ]
  },
  {
   "cell_type": "code",
   "execution_count": 184,
   "metadata": {
    "collapsed": false
   },
   "outputs": [
    {
     "data": {
      "text/html": [
       "<div>\n",
       "<table border=\"1\" class=\"dataframe\">\n",
       "  <thead>\n",
       "    <tr style=\"text-align: right;\">\n",
       "      <th></th>\n",
       "      <th>playerID</th>\n",
       "      <th>yearID</th>\n",
       "      <th>stint</th>\n",
       "      <th>teamID</th>\n",
       "      <th>lgID</th>\n",
       "      <th>G</th>\n",
       "      <th>AB</th>\n",
       "      <th>R</th>\n",
       "      <th>H</th>\n",
       "      <th>2B</th>\n",
       "      <th>3B</th>\n",
       "      <th>HR</th>\n",
       "      <th>RBI</th>\n",
       "      <th>SB</th>\n",
       "      <th>CS</th>\n",
       "      <th>BB</th>\n",
       "      <th>SO</th>\n",
       "      <th>IBB</th>\n",
       "      <th>HBP</th>\n",
       "      <th>SH</th>\n",
       "      <th>SF</th>\n",
       "      <th>GIDP</th>\n",
       "      <th>BA</th>\n",
       "    </tr>\n",
       "  </thead>\n",
       "  <tbody>\n",
       "    <tr>\n",
       "      <th>92851</th>\n",
       "      <td>abreubo01</td>\n",
       "      <td>2010</td>\n",
       "      <td>1</td>\n",
       "      <td>LAA</td>\n",
       "      <td>AL</td>\n",
       "      <td>154</td>\n",
       "      <td>573.0</td>\n",
       "      <td>88.0</td>\n",
       "      <td>146.0</td>\n",
       "      <td>41.0</td>\n",
       "      <td>1.0</td>\n",
       "      <td>20.0</td>\n",
       "      <td>78.0</td>\n",
       "      <td>24.0</td>\n",
       "      <td>10.0</td>\n",
       "      <td>87.0</td>\n",
       "      <td>132.0</td>\n",
       "      <td>3.0</td>\n",
       "      <td>2.0</td>\n",
       "      <td>0.0</td>\n",
       "      <td>5.0</td>\n",
       "      <td>13.0</td>\n",
       "      <td>0.254799</td>\n",
       "    </tr>\n",
       "    <tr>\n",
       "      <th>92852</th>\n",
       "      <td>abreuto01</td>\n",
       "      <td>2010</td>\n",
       "      <td>1</td>\n",
       "      <td>ARI</td>\n",
       "      <td>NL</td>\n",
       "      <td>81</td>\n",
       "      <td>193.0</td>\n",
       "      <td>16.0</td>\n",
       "      <td>45.0</td>\n",
       "      <td>11.0</td>\n",
       "      <td>1.0</td>\n",
       "      <td>1.0</td>\n",
       "      <td>13.0</td>\n",
       "      <td>2.0</td>\n",
       "      <td>1.0</td>\n",
       "      <td>4.0</td>\n",
       "      <td>47.0</td>\n",
       "      <td>0.0</td>\n",
       "      <td>0.0</td>\n",
       "      <td>0.0</td>\n",
       "      <td>4.0</td>\n",
       "      <td>8.0</td>\n",
       "      <td>0.233161</td>\n",
       "    </tr>\n",
       "    <tr>\n",
       "      <th>92860</th>\n",
       "      <td>aldrico01</td>\n",
       "      <td>2010</td>\n",
       "      <td>1</td>\n",
       "      <td>LAA</td>\n",
       "      <td>AL</td>\n",
       "      <td>5</td>\n",
       "      <td>13.0</td>\n",
       "      <td>0.0</td>\n",
       "      <td>1.0</td>\n",
       "      <td>0.0</td>\n",
       "      <td>1.0</td>\n",
       "      <td>0.0</td>\n",
       "      <td>1.0</td>\n",
       "      <td>0.0</td>\n",
       "      <td>0.0</td>\n",
       "      <td>0.0</td>\n",
       "      <td>5.0</td>\n",
       "      <td>0.0</td>\n",
       "      <td>0.0</td>\n",
       "      <td>0.0</td>\n",
       "      <td>0.0</td>\n",
       "      <td>0.0</td>\n",
       "      <td>0.076923</td>\n",
       "    </tr>\n",
       "    <tr>\n",
       "      <th>92861</th>\n",
       "      <td>alfonel01</td>\n",
       "      <td>2010</td>\n",
       "      <td>1</td>\n",
       "      <td>SEA</td>\n",
       "      <td>AL</td>\n",
       "      <td>13</td>\n",
       "      <td>41.0</td>\n",
       "      <td>4.0</td>\n",
       "      <td>9.0</td>\n",
       "      <td>1.0</td>\n",
       "      <td>0.0</td>\n",
       "      <td>1.0</td>\n",
       "      <td>4.0</td>\n",
       "      <td>0.0</td>\n",
       "      <td>0.0</td>\n",
       "      <td>0.0</td>\n",
       "      <td>10.0</td>\n",
       "      <td>0.0</td>\n",
       "      <td>0.0</td>\n",
       "      <td>0.0</td>\n",
       "      <td>0.0</td>\n",
       "      <td>2.0</td>\n",
       "      <td>0.219512</td>\n",
       "    </tr>\n",
       "    <tr>\n",
       "      <th>92862</th>\n",
       "      <td>allenbr01</td>\n",
       "      <td>2010</td>\n",
       "      <td>1</td>\n",
       "      <td>ARI</td>\n",
       "      <td>NL</td>\n",
       "      <td>22</td>\n",
       "      <td>45.0</td>\n",
       "      <td>5.0</td>\n",
       "      <td>12.0</td>\n",
       "      <td>3.0</td>\n",
       "      <td>0.0</td>\n",
       "      <td>1.0</td>\n",
       "      <td>6.0</td>\n",
       "      <td>0.0</td>\n",
       "      <td>0.0</td>\n",
       "      <td>10.0</td>\n",
       "      <td>20.0</td>\n",
       "      <td>1.0</td>\n",
       "      <td>0.0</td>\n",
       "      <td>0.0</td>\n",
       "      <td>1.0</td>\n",
       "      <td>0.0</td>\n",
       "      <td>0.266667</td>\n",
       "    </tr>\n",
       "  </tbody>\n",
       "</table>\n",
       "</div>"
      ],
      "text/plain": [
       "        playerID  yearID  stint teamID lgID    G     AB     R      H    2B   3B    HR   RBI    SB    CS    BB     SO  IBB  HBP   SH   SF  GIDP        BA\n",
       "92851  abreubo01    2010      1    LAA   AL  154  573.0  88.0  146.0  41.0  1.0  20.0  78.0  24.0  10.0  87.0  132.0  3.0  2.0  0.0  5.0  13.0  0.254799\n",
       "92852  abreuto01    2010      1    ARI   NL   81  193.0  16.0   45.0  11.0  1.0   1.0  13.0   2.0   1.0   4.0   47.0  0.0  0.0  0.0  4.0   8.0  0.233161\n",
       "92860  aldrico01    2010      1    LAA   AL    5   13.0   0.0    1.0   0.0  1.0   0.0   1.0   0.0   0.0   0.0    5.0  0.0  0.0  0.0  0.0   0.0  0.076923\n",
       "92861  alfonel01    2010      1    SEA   AL   13   41.0   4.0    9.0   1.0  0.0   1.0   4.0   0.0   0.0   0.0   10.0  0.0  0.0  0.0  0.0   2.0  0.219512\n",
       "92862  allenbr01    2010      1    ARI   NL   22   45.0   5.0   12.0   3.0  0.0   1.0   6.0   0.0   0.0  10.0   20.0  1.0  0.0  0.0  1.0   0.0  0.266667"
      ]
     },
     "execution_count": 184,
     "metadata": {},
     "output_type": "execute_result"
    }
   ],
   "source": [
    "batting_last5yrs_1stcleanBA = batting_last5yrs[batting_last5yrs.BA != 0]\n",
    "batting_last5yrs_2ndcleanBA = batting_last5yrs_1stcleanBA[np.isfinite(batting_last5yrs_1stcleanBA['BA'])]\n",
    "batting_last5yrs_2ndcleanBA.head()"
   ]
  },
  {
   "cell_type": "markdown",
   "metadata": {},
   "source": [
    "Select only players with ABs higher than populations average, to get rid of possible pitchers and pinch hitters.\n"
   ]
  },
  {
   "cell_type": "code",
   "execution_count": 185,
   "metadata": {
    "collapsed": false
   },
   "outputs": [
    {
     "data": {
      "text/html": [
       "<div>\n",
       "<table border=\"1\" class=\"dataframe\">\n",
       "  <thead>\n",
       "    <tr style=\"text-align: right;\">\n",
       "      <th></th>\n",
       "      <th>playerID</th>\n",
       "      <th>yearID</th>\n",
       "      <th>stint</th>\n",
       "      <th>teamID</th>\n",
       "      <th>lgID</th>\n",
       "      <th>G</th>\n",
       "      <th>AB</th>\n",
       "      <th>R</th>\n",
       "      <th>H</th>\n",
       "      <th>2B</th>\n",
       "      <th>3B</th>\n",
       "      <th>HR</th>\n",
       "      <th>RBI</th>\n",
       "      <th>SB</th>\n",
       "      <th>CS</th>\n",
       "      <th>BB</th>\n",
       "      <th>SO</th>\n",
       "      <th>IBB</th>\n",
       "      <th>HBP</th>\n",
       "      <th>SH</th>\n",
       "      <th>SF</th>\n",
       "      <th>GIDP</th>\n",
       "      <th>BA</th>\n",
       "    </tr>\n",
       "  </thead>\n",
       "  <tbody>\n",
       "    <tr>\n",
       "      <th>92851</th>\n",
       "      <td>abreubo01</td>\n",
       "      <td>2010</td>\n",
       "      <td>1</td>\n",
       "      <td>LAA</td>\n",
       "      <td>AL</td>\n",
       "      <td>154</td>\n",
       "      <td>573.0</td>\n",
       "      <td>88.0</td>\n",
       "      <td>146.0</td>\n",
       "      <td>41.0</td>\n",
       "      <td>1.0</td>\n",
       "      <td>20.0</td>\n",
       "      <td>78.0</td>\n",
       "      <td>24.0</td>\n",
       "      <td>10.0</td>\n",
       "      <td>87.0</td>\n",
       "      <td>132.0</td>\n",
       "      <td>3.0</td>\n",
       "      <td>2.0</td>\n",
       "      <td>0.0</td>\n",
       "      <td>5.0</td>\n",
       "      <td>13.0</td>\n",
       "      <td>0.254799</td>\n",
       "    </tr>\n",
       "    <tr>\n",
       "      <th>92864</th>\n",
       "      <td>alvarpe01</td>\n",
       "      <td>2010</td>\n",
       "      <td>1</td>\n",
       "      <td>PIT</td>\n",
       "      <td>NL</td>\n",
       "      <td>95</td>\n",
       "      <td>347.0</td>\n",
       "      <td>42.0</td>\n",
       "      <td>89.0</td>\n",
       "      <td>21.0</td>\n",
       "      <td>1.0</td>\n",
       "      <td>16.0</td>\n",
       "      <td>64.0</td>\n",
       "      <td>0.0</td>\n",
       "      <td>0.0</td>\n",
       "      <td>37.0</td>\n",
       "      <td>119.0</td>\n",
       "      <td>1.0</td>\n",
       "      <td>0.0</td>\n",
       "      <td>0.0</td>\n",
       "      <td>2.0</td>\n",
       "      <td>8.0</td>\n",
       "      <td>0.256484</td>\n",
       "    </tr>\n",
       "    <tr>\n",
       "      <th>92871</th>\n",
       "      <td>andruel01</td>\n",
       "      <td>2010</td>\n",
       "      <td>1</td>\n",
       "      <td>TEX</td>\n",
       "      <td>AL</td>\n",
       "      <td>148</td>\n",
       "      <td>588.0</td>\n",
       "      <td>88.0</td>\n",
       "      <td>156.0</td>\n",
       "      <td>15.0</td>\n",
       "      <td>3.0</td>\n",
       "      <td>0.0</td>\n",
       "      <td>35.0</td>\n",
       "      <td>32.0</td>\n",
       "      <td>15.0</td>\n",
       "      <td>64.0</td>\n",
       "      <td>96.0</td>\n",
       "      <td>0.0</td>\n",
       "      <td>5.0</td>\n",
       "      <td>17.0</td>\n",
       "      <td>0.0</td>\n",
       "      <td>6.0</td>\n",
       "      <td>0.265306</td>\n",
       "    </tr>\n",
       "    <tr>\n",
       "      <th>92884</th>\n",
       "      <td>avilaal01</td>\n",
       "      <td>2010</td>\n",
       "      <td>1</td>\n",
       "      <td>DET</td>\n",
       "      <td>AL</td>\n",
       "      <td>104</td>\n",
       "      <td>294.0</td>\n",
       "      <td>28.0</td>\n",
       "      <td>67.0</td>\n",
       "      <td>12.0</td>\n",
       "      <td>0.0</td>\n",
       "      <td>7.0</td>\n",
       "      <td>31.0</td>\n",
       "      <td>2.0</td>\n",
       "      <td>2.0</td>\n",
       "      <td>36.0</td>\n",
       "      <td>71.0</td>\n",
       "      <td>0.0</td>\n",
       "      <td>2.0</td>\n",
       "      <td>1.0</td>\n",
       "      <td>0.0</td>\n",
       "      <td>12.0</td>\n",
       "      <td>0.227891</td>\n",
       "    </tr>\n",
       "    <tr>\n",
       "      <th>92885</th>\n",
       "      <td>avilemi01</td>\n",
       "      <td>2010</td>\n",
       "      <td>1</td>\n",
       "      <td>KCA</td>\n",
       "      <td>AL</td>\n",
       "      <td>110</td>\n",
       "      <td>424.0</td>\n",
       "      <td>63.0</td>\n",
       "      <td>129.0</td>\n",
       "      <td>16.0</td>\n",
       "      <td>3.0</td>\n",
       "      <td>8.0</td>\n",
       "      <td>32.0</td>\n",
       "      <td>14.0</td>\n",
       "      <td>5.0</td>\n",
       "      <td>20.0</td>\n",
       "      <td>49.0</td>\n",
       "      <td>0.0</td>\n",
       "      <td>1.0</td>\n",
       "      <td>0.0</td>\n",
       "      <td>3.0</td>\n",
       "      <td>13.0</td>\n",
       "      <td>0.304245</td>\n",
       "    </tr>\n",
       "  </tbody>\n",
       "</table>\n",
       "</div>"
      ],
      "text/plain": [
       "        playerID  yearID  stint teamID lgID    G     AB     R      H    2B   3B    HR   RBI    SB    CS    BB     SO  IBB  HBP    SH   SF  GIDP        BA\n",
       "92851  abreubo01    2010      1    LAA   AL  154  573.0  88.0  146.0  41.0  1.0  20.0  78.0  24.0  10.0  87.0  132.0  3.0  2.0   0.0  5.0  13.0  0.254799\n",
       "92864  alvarpe01    2010      1    PIT   NL   95  347.0  42.0   89.0  21.0  1.0  16.0  64.0   0.0   0.0  37.0  119.0  1.0  0.0   0.0  2.0   8.0  0.256484\n",
       "92871  andruel01    2010      1    TEX   AL  148  588.0  88.0  156.0  15.0  3.0   0.0  35.0  32.0  15.0  64.0   96.0  0.0  5.0  17.0  0.0   6.0  0.265306\n",
       "92884  avilaal01    2010      1    DET   AL  104  294.0  28.0   67.0  12.0  0.0   7.0  31.0   2.0   2.0  36.0   71.0  0.0  2.0   1.0  0.0  12.0  0.227891\n",
       "92885  avilemi01    2010      1    KCA   AL  110  424.0  63.0  129.0  16.0  3.0   8.0  32.0  14.0   5.0  20.0   49.0  0.0  1.0   0.0  3.0  13.0  0.304245"
      ]
     },
     "execution_count": 185,
     "metadata": {},
     "output_type": "execute_result"
    }
   ],
   "source": [
    "mean_AB = batting_last5yrs_2ndcleanBA['AB'].mean()\n",
    "\n",
    "finalcleanBA = batting_last5yrs_2ndcleanBA['AB'] >= mean_AB\n",
    "\n",
    "batting_last5yrs_finalcleanBA = batting_last5yrs_2ndcleanBA[finalcleanBA]\n",
    "batting_last5yrs_finalcleanBA.head()"
   ]
  },
  {
   "cell_type": "markdown",
   "metadata": {},
   "source": [
    "# Create new salary list for players within the last 5  years (2010-2015)"
   ]
  },
  {
   "cell_type": "code",
   "execution_count": 186,
   "metadata": {
    "collapsed": false
   },
   "outputs": [
    {
     "data": {
      "text/html": [
       "<div>\n",
       "<table border=\"1\" class=\"dataframe\">\n",
       "  <thead>\n",
       "    <tr style=\"text-align: right;\">\n",
       "      <th></th>\n",
       "      <th>yearID</th>\n",
       "      <th>teamID</th>\n",
       "      <th>lgID</th>\n",
       "      <th>playerID</th>\n",
       "      <th>salary</th>\n",
       "    </tr>\n",
       "  </thead>\n",
       "  <tbody>\n",
       "    <tr>\n",
       "      <th>20624</th>\n",
       "      <td>2010</td>\n",
       "      <td>ARI</td>\n",
       "      <td>NL</td>\n",
       "      <td>abreuto01</td>\n",
       "      <td>407000</td>\n",
       "    </tr>\n",
       "    <tr>\n",
       "      <th>20625</th>\n",
       "      <td>2010</td>\n",
       "      <td>ARI</td>\n",
       "      <td>NL</td>\n",
       "      <td>boyerbl01</td>\n",
       "      <td>725000</td>\n",
       "    </tr>\n",
       "    <tr>\n",
       "      <th>20626</th>\n",
       "      <td>2010</td>\n",
       "      <td>ARI</td>\n",
       "      <td>NL</td>\n",
       "      <td>drewst01</td>\n",
       "      <td>3400000</td>\n",
       "    </tr>\n",
       "    <tr>\n",
       "      <th>20627</th>\n",
       "      <td>2010</td>\n",
       "      <td>ARI</td>\n",
       "      <td>NL</td>\n",
       "      <td>gutieju01</td>\n",
       "      <td>411000</td>\n",
       "    </tr>\n",
       "    <tr>\n",
       "      <th>20628</th>\n",
       "      <td>2010</td>\n",
       "      <td>ARI</td>\n",
       "      <td>NL</td>\n",
       "      <td>harenda01</td>\n",
       "      <td>8250000</td>\n",
       "    </tr>\n",
       "  </tbody>\n",
       "</table>\n",
       "</div>"
      ],
      "text/plain": [
       "       yearID teamID lgID   playerID   salary\n",
       "20624    2010    ARI   NL  abreuto01   407000\n",
       "20625    2010    ARI   NL  boyerbl01   725000\n",
       "20626    2010    ARI   NL   drewst01  3400000\n",
       "20627    2010    ARI   NL  gutieju01   411000\n",
       "20628    2010    ARI   NL  harenda01  8250000"
      ]
     },
     "execution_count": 186,
     "metadata": {},
     "output_type": "execute_result"
    }
   ],
   "source": [
    "select_salaries_last5yrs = salaries['yearID'] >=2010\n",
    "salaries_last5yrs = salaries [select_salaries_last5yrs]\n",
    "salaries_last5yrs.head()"
   ]
  },
  {
   "cell_type": "markdown",
   "metadata": {},
   "source": [
    "### Merge batting_n_salaries_last5yrs and salaries_last5yrs.merge dataframe to add playerID-specific and yearID-specific to create a dataframe with both players' batting statistics and their salary."
   ]
  },
  {
   "cell_type": "code",
   "execution_count": 187,
   "metadata": {
    "collapsed": false
   },
   "outputs": [
    {
     "data": {
      "text/html": [
       "<div>\n",
       "<table border=\"1\" class=\"dataframe\">\n",
       "  <thead>\n",
       "    <tr style=\"text-align: right;\">\n",
       "      <th></th>\n",
       "      <th>yearID</th>\n",
       "      <th>teamID_x</th>\n",
       "      <th>lgID_x</th>\n",
       "      <th>playerID</th>\n",
       "      <th>salary</th>\n",
       "      <th>stint</th>\n",
       "      <th>teamID_y</th>\n",
       "      <th>lgID_y</th>\n",
       "      <th>G</th>\n",
       "      <th>AB</th>\n",
       "      <th>R</th>\n",
       "      <th>H</th>\n",
       "      <th>2B</th>\n",
       "      <th>3B</th>\n",
       "      <th>HR</th>\n",
       "      <th>RBI</th>\n",
       "      <th>SB</th>\n",
       "      <th>CS</th>\n",
       "      <th>BB</th>\n",
       "      <th>SO</th>\n",
       "      <th>IBB</th>\n",
       "      <th>HBP</th>\n",
       "      <th>SH</th>\n",
       "      <th>SF</th>\n",
       "      <th>GIDP</th>\n",
       "      <th>BA</th>\n",
       "    </tr>\n",
       "  </thead>\n",
       "  <tbody>\n",
       "    <tr>\n",
       "      <th>0</th>\n",
       "      <td>2010</td>\n",
       "      <td>ARI</td>\n",
       "      <td>NL</td>\n",
       "      <td>drewst01</td>\n",
       "      <td>3400000</td>\n",
       "      <td>1</td>\n",
       "      <td>ARI</td>\n",
       "      <td>NL</td>\n",
       "      <td>151</td>\n",
       "      <td>565.0</td>\n",
       "      <td>83.0</td>\n",
       "      <td>157.0</td>\n",
       "      <td>33.0</td>\n",
       "      <td>12.0</td>\n",
       "      <td>15.0</td>\n",
       "      <td>61.0</td>\n",
       "      <td>10.0</td>\n",
       "      <td>5.0</td>\n",
       "      <td>62.0</td>\n",
       "      <td>108.0</td>\n",
       "      <td>2.0</td>\n",
       "      <td>3.0</td>\n",
       "      <td>2.0</td>\n",
       "      <td>1.0</td>\n",
       "      <td>7.0</td>\n",
       "      <td>0.277876</td>\n",
       "    </tr>\n",
       "    <tr>\n",
       "      <th>1</th>\n",
       "      <td>2010</td>\n",
       "      <td>ARI</td>\n",
       "      <td>NL</td>\n",
       "      <td>johnske05</td>\n",
       "      <td>2350000</td>\n",
       "      <td>1</td>\n",
       "      <td>ARI</td>\n",
       "      <td>NL</td>\n",
       "      <td>154</td>\n",
       "      <td>585.0</td>\n",
       "      <td>93.0</td>\n",
       "      <td>166.0</td>\n",
       "      <td>36.0</td>\n",
       "      <td>5.0</td>\n",
       "      <td>26.0</td>\n",
       "      <td>71.0</td>\n",
       "      <td>13.0</td>\n",
       "      <td>7.0</td>\n",
       "      <td>79.0</td>\n",
       "      <td>148.0</td>\n",
       "      <td>1.0</td>\n",
       "      <td>2.0</td>\n",
       "      <td>3.0</td>\n",
       "      <td>2.0</td>\n",
       "      <td>12.0</td>\n",
       "      <td>0.283761</td>\n",
       "    </tr>\n",
       "    <tr>\n",
       "      <th>2</th>\n",
       "      <td>2010</td>\n",
       "      <td>ARI</td>\n",
       "      <td>NL</td>\n",
       "      <td>larocad01</td>\n",
       "      <td>4500000</td>\n",
       "      <td>1</td>\n",
       "      <td>ARI</td>\n",
       "      <td>NL</td>\n",
       "      <td>151</td>\n",
       "      <td>560.0</td>\n",
       "      <td>75.0</td>\n",
       "      <td>146.0</td>\n",
       "      <td>37.0</td>\n",
       "      <td>2.0</td>\n",
       "      <td>25.0</td>\n",
       "      <td>100.0</td>\n",
       "      <td>0.0</td>\n",
       "      <td>1.0</td>\n",
       "      <td>48.0</td>\n",
       "      <td>172.0</td>\n",
       "      <td>4.0</td>\n",
       "      <td>3.0</td>\n",
       "      <td>0.0</td>\n",
       "      <td>4.0</td>\n",
       "      <td>8.0</td>\n",
       "      <td>0.260714</td>\n",
       "    </tr>\n",
       "    <tr>\n",
       "      <th>3</th>\n",
       "      <td>2010</td>\n",
       "      <td>ARI</td>\n",
       "      <td>NL</td>\n",
       "      <td>montemi01</td>\n",
       "      <td>2000000</td>\n",
       "      <td>1</td>\n",
       "      <td>ARI</td>\n",
       "      <td>NL</td>\n",
       "      <td>85</td>\n",
       "      <td>297.0</td>\n",
       "      <td>36.0</td>\n",
       "      <td>79.0</td>\n",
       "      <td>20.0</td>\n",
       "      <td>2.0</td>\n",
       "      <td>9.0</td>\n",
       "      <td>43.0</td>\n",
       "      <td>0.0</td>\n",
       "      <td>1.0</td>\n",
       "      <td>29.0</td>\n",
       "      <td>71.0</td>\n",
       "      <td>3.0</td>\n",
       "      <td>2.0</td>\n",
       "      <td>0.0</td>\n",
       "      <td>3.0</td>\n",
       "      <td>10.0</td>\n",
       "      <td>0.265993</td>\n",
       "    </tr>\n",
       "    <tr>\n",
       "      <th>4</th>\n",
       "      <td>2010</td>\n",
       "      <td>ARI</td>\n",
       "      <td>NL</td>\n",
       "      <td>parrage01</td>\n",
       "      <td>405500</td>\n",
       "      <td>1</td>\n",
       "      <td>ARI</td>\n",
       "      <td>NL</td>\n",
       "      <td>133</td>\n",
       "      <td>364.0</td>\n",
       "      <td>31.0</td>\n",
       "      <td>95.0</td>\n",
       "      <td>19.0</td>\n",
       "      <td>6.0</td>\n",
       "      <td>3.0</td>\n",
       "      <td>30.0</td>\n",
       "      <td>1.0</td>\n",
       "      <td>0.0</td>\n",
       "      <td>23.0</td>\n",
       "      <td>76.0</td>\n",
       "      <td>10.0</td>\n",
       "      <td>2.0</td>\n",
       "      <td>3.0</td>\n",
       "      <td>1.0</td>\n",
       "      <td>8.0</td>\n",
       "      <td>0.260989</td>\n",
       "    </tr>\n",
       "  </tbody>\n",
       "</table>\n",
       "</div>"
      ],
      "text/plain": [
       "   yearID teamID_x lgID_x   playerID   salary  stint teamID_y lgID_y    G     AB     R      H    2B    3B    HR    RBI    SB   CS    BB     SO   IBB  HBP   SH   SF  GIDP        BA\n",
       "0    2010      ARI     NL   drewst01  3400000      1      ARI     NL  151  565.0  83.0  157.0  33.0  12.0  15.0   61.0  10.0  5.0  62.0  108.0   2.0  3.0  2.0  1.0   7.0  0.277876\n",
       "1    2010      ARI     NL  johnske05  2350000      1      ARI     NL  154  585.0  93.0  166.0  36.0   5.0  26.0   71.0  13.0  7.0  79.0  148.0   1.0  2.0  3.0  2.0  12.0  0.283761\n",
       "2    2010      ARI     NL  larocad01  4500000      1      ARI     NL  151  560.0  75.0  146.0  37.0   2.0  25.0  100.0   0.0  1.0  48.0  172.0   4.0  3.0  0.0  4.0   8.0  0.260714\n",
       "3    2010      ARI     NL  montemi01  2000000      1      ARI     NL   85  297.0  36.0   79.0  20.0   2.0   9.0   43.0   0.0  1.0  29.0   71.0   3.0  2.0  0.0  3.0  10.0  0.265993\n",
       "4    2010      ARI     NL  parrage01   405500      1      ARI     NL  133  364.0  31.0   95.0  19.0   6.0   3.0   30.0   1.0  0.0  23.0   76.0  10.0  2.0  3.0  1.0   8.0  0.260989"
      ]
     },
     "execution_count": 187,
     "metadata": {},
     "output_type": "execute_result"
    }
   ],
   "source": [
    "batting_n_salaries_last5yrs = salaries_last5yrs.merge(batting_last5yrs_finalcleanBA, on=['playerID', 'yearID'], how='inner')\n",
    "batting_n_salaries_last5yrs.head()\n"
   ]
  },
  {
   "cell_type": "code",
   "execution_count": 188,
   "metadata": {
    "collapsed": false
   },
   "outputs": [
    {
     "data": {
      "text/html": [
       "<div>\n",
       "<table border=\"1\" class=\"dataframe\">\n",
       "  <thead>\n",
       "    <tr style=\"text-align: right;\">\n",
       "      <th></th>\n",
       "      <th>yearID</th>\n",
       "      <th>teamID_x</th>\n",
       "      <th>lgID_x</th>\n",
       "      <th>playerID</th>\n",
       "      <th>salary</th>\n",
       "      <th>stint</th>\n",
       "      <th>teamID_y</th>\n",
       "      <th>lgID_y</th>\n",
       "      <th>G</th>\n",
       "      <th>AB</th>\n",
       "      <th>R</th>\n",
       "      <th>H</th>\n",
       "      <th>2B</th>\n",
       "      <th>3B</th>\n",
       "      <th>HR</th>\n",
       "      <th>RBI</th>\n",
       "      <th>SB</th>\n",
       "      <th>CS</th>\n",
       "      <th>BB</th>\n",
       "      <th>SO</th>\n",
       "      <th>IBB</th>\n",
       "      <th>HBP</th>\n",
       "      <th>SH</th>\n",
       "      <th>SF</th>\n",
       "      <th>GIDP</th>\n",
       "      <th>BA</th>\n",
       "    </tr>\n",
       "  </thead>\n",
       "  <tbody>\n",
       "    <tr>\n",
       "      <th>0</th>\n",
       "      <td>2010</td>\n",
       "      <td>ARI</td>\n",
       "      <td>NL</td>\n",
       "      <td>drewst01</td>\n",
       "      <td>3400000</td>\n",
       "      <td>1</td>\n",
       "      <td>ARI</td>\n",
       "      <td>NL</td>\n",
       "      <td>151</td>\n",
       "      <td>565.0</td>\n",
       "      <td>83.0</td>\n",
       "      <td>157.0</td>\n",
       "      <td>33.0</td>\n",
       "      <td>12.0</td>\n",
       "      <td>15.0</td>\n",
       "      <td>61.0</td>\n",
       "      <td>10.0</td>\n",
       "      <td>5.0</td>\n",
       "      <td>62.0</td>\n",
       "      <td>108.0</td>\n",
       "      <td>2.0</td>\n",
       "      <td>3.0</td>\n",
       "      <td>2.0</td>\n",
       "      <td>1.0</td>\n",
       "      <td>7.0</td>\n",
       "      <td>0.277876</td>\n",
       "    </tr>\n",
       "    <tr>\n",
       "      <th>295</th>\n",
       "      <td>2011</td>\n",
       "      <td>ARI</td>\n",
       "      <td>NL</td>\n",
       "      <td>drewst01</td>\n",
       "      <td>4650000</td>\n",
       "      <td>1</td>\n",
       "      <td>ARI</td>\n",
       "      <td>NL</td>\n",
       "      <td>86</td>\n",
       "      <td>321.0</td>\n",
       "      <td>44.0</td>\n",
       "      <td>81.0</td>\n",
       "      <td>21.0</td>\n",
       "      <td>5.0</td>\n",
       "      <td>5.0</td>\n",
       "      <td>45.0</td>\n",
       "      <td>4.0</td>\n",
       "      <td>4.0</td>\n",
       "      <td>30.0</td>\n",
       "      <td>74.0</td>\n",
       "      <td>0.0</td>\n",
       "      <td>1.0</td>\n",
       "      <td>1.0</td>\n",
       "      <td>1.0</td>\n",
       "      <td>3.0</td>\n",
       "      <td>0.252336</td>\n",
       "    </tr>\n",
       "    <tr>\n",
       "      <th>915</th>\n",
       "      <td>2013</td>\n",
       "      <td>BOS</td>\n",
       "      <td>AL</td>\n",
       "      <td>drewst01</td>\n",
       "      <td>9500000</td>\n",
       "      <td>1</td>\n",
       "      <td>BOS</td>\n",
       "      <td>AL</td>\n",
       "      <td>124</td>\n",
       "      <td>442.0</td>\n",
       "      <td>57.0</td>\n",
       "      <td>112.0</td>\n",
       "      <td>29.0</td>\n",
       "      <td>8.0</td>\n",
       "      <td>13.0</td>\n",
       "      <td>67.0</td>\n",
       "      <td>6.0</td>\n",
       "      <td>0.0</td>\n",
       "      <td>54.0</td>\n",
       "      <td>124.0</td>\n",
       "      <td>3.0</td>\n",
       "      <td>1.0</td>\n",
       "      <td>0.0</td>\n",
       "      <td>4.0</td>\n",
       "      <td>9.0</td>\n",
       "      <td>0.253394</td>\n",
       "    </tr>\n",
       "    <tr>\n",
       "      <th>1635</th>\n",
       "      <td>2015</td>\n",
       "      <td>NYA</td>\n",
       "      <td>AL</td>\n",
       "      <td>drewst01</td>\n",
       "      <td>5000000</td>\n",
       "      <td>1</td>\n",
       "      <td>NYA</td>\n",
       "      <td>AL</td>\n",
       "      <td>131</td>\n",
       "      <td>383.0</td>\n",
       "      <td>43.0</td>\n",
       "      <td>77.0</td>\n",
       "      <td>16.0</td>\n",
       "      <td>1.0</td>\n",
       "      <td>17.0</td>\n",
       "      <td>44.0</td>\n",
       "      <td>0.0</td>\n",
       "      <td>2.0</td>\n",
       "      <td>37.0</td>\n",
       "      <td>71.0</td>\n",
       "      <td>1.0</td>\n",
       "      <td>1.0</td>\n",
       "      <td>4.0</td>\n",
       "      <td>3.0</td>\n",
       "      <td>7.0</td>\n",
       "      <td>0.201044</td>\n",
       "    </tr>\n",
       "  </tbody>\n",
       "</table>\n",
       "</div>"
      ],
      "text/plain": [
       "      yearID teamID_x lgID_x  playerID   salary  stint teamID_y lgID_y    G     AB     R      H    2B    3B    HR   RBI    SB   CS    BB     SO  IBB  HBP   SH   SF  GIDP        BA\n",
       "0       2010      ARI     NL  drewst01  3400000      1      ARI     NL  151  565.0  83.0  157.0  33.0  12.0  15.0  61.0  10.0  5.0  62.0  108.0  2.0  3.0  2.0  1.0   7.0  0.277876\n",
       "295     2011      ARI     NL  drewst01  4650000      1      ARI     NL   86  321.0  44.0   81.0  21.0   5.0   5.0  45.0   4.0  4.0  30.0   74.0  0.0  1.0  1.0  1.0   3.0  0.252336\n",
       "915     2013      BOS     AL  drewst01  9500000      1      BOS     AL  124  442.0  57.0  112.0  29.0   8.0  13.0  67.0   6.0  0.0  54.0  124.0  3.0  1.0  0.0  4.0   9.0  0.253394\n",
       "1635    2015      NYA     AL  drewst01  5000000      1      NYA     AL  131  383.0  43.0   77.0  16.0   1.0  17.0  44.0   0.0  2.0  37.0   71.0  1.0  1.0  4.0  3.0   7.0  0.201044"
      ]
     },
     "execution_count": 188,
     "metadata": {},
     "output_type": "execute_result"
    }
   ],
   "source": [
    "#verify the merged list 'batting_n_salaries_last5yrs' for salary and playerID\n",
    "select_drew = batting_n_salaries_last5yrs['playerID'] == 'drewst01'\n",
    "test_drew = batting_n_salaries_last5yrs[select_drew]\n",
    "test_drew"
   ]
  },
  {
   "cell_type": "markdown",
   "metadata": {},
   "source": [
    "###Observed general statistics for the batting/salary (within the last 5 years) dataframe."
   ]
  },
  {
   "cell_type": "code",
   "execution_count": 189,
   "metadata": {
    "collapsed": false
   },
   "outputs": [
    {
     "data": {
      "text/html": [
       "<div>\n",
       "<table border=\"1\" class=\"dataframe\">\n",
       "  <thead>\n",
       "    <tr style=\"text-align: right;\">\n",
       "      <th></th>\n",
       "      <th>yearID</th>\n",
       "      <th>salary</th>\n",
       "      <th>stint</th>\n",
       "      <th>G</th>\n",
       "      <th>AB</th>\n",
       "      <th>R</th>\n",
       "      <th>H</th>\n",
       "      <th>2B</th>\n",
       "      <th>3B</th>\n",
       "      <th>HR</th>\n",
       "      <th>RBI</th>\n",
       "      <th>SB</th>\n",
       "      <th>CS</th>\n",
       "      <th>BB</th>\n",
       "      <th>SO</th>\n",
       "      <th>IBB</th>\n",
       "      <th>HBP</th>\n",
       "      <th>SH</th>\n",
       "      <th>SF</th>\n",
       "      <th>GIDP</th>\n",
       "      <th>BA</th>\n",
       "    </tr>\n",
       "  </thead>\n",
       "  <tbody>\n",
       "    <tr>\n",
       "      <th>count</th>\n",
       "      <td>1762.000000</td>\n",
       "      <td>1.762000e+03</td>\n",
       "      <td>1762.000000</td>\n",
       "      <td>1762.000000</td>\n",
       "      <td>1762.000000</td>\n",
       "      <td>1762.000000</td>\n",
       "      <td>1762.000000</td>\n",
       "      <td>1762.000000</td>\n",
       "      <td>1762.000000</td>\n",
       "      <td>1762.000000</td>\n",
       "      <td>1762.00000</td>\n",
       "      <td>1762.000000</td>\n",
       "      <td>1762.000000</td>\n",
       "      <td>1762.000000</td>\n",
       "      <td>1762.000000</td>\n",
       "      <td>1762.000000</td>\n",
       "      <td>1762.000000</td>\n",
       "      <td>1762.000000</td>\n",
       "      <td>1762.000000</td>\n",
       "      <td>1762.00000</td>\n",
       "      <td>1762.000000</td>\n",
       "    </tr>\n",
       "    <tr>\n",
       "      <th>mean</th>\n",
       "      <td>2012.484109</td>\n",
       "      <td>5.050967e+06</td>\n",
       "      <td>1.024404</td>\n",
       "      <td>121.410897</td>\n",
       "      <td>420.223610</td>\n",
       "      <td>54.832009</td>\n",
       "      <td>111.038593</td>\n",
       "      <td>22.039160</td>\n",
       "      <td>2.241203</td>\n",
       "      <td>12.883087</td>\n",
       "      <td>52.84790</td>\n",
       "      <td>7.788309</td>\n",
       "      <td>2.909762</td>\n",
       "      <td>39.025539</td>\n",
       "      <td>85.479001</td>\n",
       "      <td>3.092509</td>\n",
       "      <td>4.134506</td>\n",
       "      <td>1.860386</td>\n",
       "      <td>3.393871</td>\n",
       "      <td>9.54143</td>\n",
       "      <td>0.260249</td>\n",
       "    </tr>\n",
       "    <tr>\n",
       "      <th>std</th>\n",
       "      <td>1.702464</td>\n",
       "      <td>5.662530e+06</td>\n",
       "      <td>0.157980</td>\n",
       "      <td>28.771067</td>\n",
       "      <td>130.776456</td>\n",
       "      <td>23.584231</td>\n",
       "      <td>41.230983</td>\n",
       "      <td>9.577334</td>\n",
       "      <td>2.394923</td>\n",
       "      <td>9.270799</td>\n",
       "      <td>25.01113</td>\n",
       "      <td>9.808039</td>\n",
       "      <td>3.048040</td>\n",
       "      <td>20.552143</td>\n",
       "      <td>35.221597</td>\n",
       "      <td>3.921860</td>\n",
       "      <td>3.645345</td>\n",
       "      <td>2.786931</td>\n",
       "      <td>2.300366</td>\n",
       "      <td>5.42438</td>\n",
       "      <td>0.031627</td>\n",
       "    </tr>\n",
       "    <tr>\n",
       "      <th>min</th>\n",
       "      <td>2010.000000</td>\n",
       "      <td>4.000000e+05</td>\n",
       "      <td>1.000000</td>\n",
       "      <td>51.000000</td>\n",
       "      <td>200.000000</td>\n",
       "      <td>4.000000</td>\n",
       "      <td>31.000000</td>\n",
       "      <td>2.000000</td>\n",
       "      <td>0.000000</td>\n",
       "      <td>0.000000</td>\n",
       "      <td>8.00000</td>\n",
       "      <td>0.000000</td>\n",
       "      <td>0.000000</td>\n",
       "      <td>4.000000</td>\n",
       "      <td>13.000000</td>\n",
       "      <td>0.000000</td>\n",
       "      <td>0.000000</td>\n",
       "      <td>0.000000</td>\n",
       "      <td>0.000000</td>\n",
       "      <td>0.00000</td>\n",
       "      <td>0.146018</td>\n",
       "    </tr>\n",
       "    <tr>\n",
       "      <th>25%</th>\n",
       "      <td>2011.000000</td>\n",
       "      <td>5.171250e+05</td>\n",
       "      <td>1.000000</td>\n",
       "      <td>99.000000</td>\n",
       "      <td>304.000000</td>\n",
       "      <td>36.000000</td>\n",
       "      <td>76.000000</td>\n",
       "      <td>14.250000</td>\n",
       "      <td>0.000000</td>\n",
       "      <td>6.000000</td>\n",
       "      <td>33.00000</td>\n",
       "      <td>1.000000</td>\n",
       "      <td>1.000000</td>\n",
       "      <td>23.000000</td>\n",
       "      <td>59.000000</td>\n",
       "      <td>1.000000</td>\n",
       "      <td>2.000000</td>\n",
       "      <td>0.000000</td>\n",
       "      <td>2.000000</td>\n",
       "      <td>6.00000</td>\n",
       "      <td>0.239416</td>\n",
       "    </tr>\n",
       "    <tr>\n",
       "      <th>50%</th>\n",
       "      <td>2012.000000</td>\n",
       "      <td>2.750000e+06</td>\n",
       "      <td>1.000000</td>\n",
       "      <td>126.000000</td>\n",
       "      <td>422.500000</td>\n",
       "      <td>53.000000</td>\n",
       "      <td>109.000000</td>\n",
       "      <td>21.000000</td>\n",
       "      <td>2.000000</td>\n",
       "      <td>11.000000</td>\n",
       "      <td>49.00000</td>\n",
       "      <td>4.000000</td>\n",
       "      <td>2.000000</td>\n",
       "      <td>35.000000</td>\n",
       "      <td>81.500000</td>\n",
       "      <td>2.000000</td>\n",
       "      <td>3.000000</td>\n",
       "      <td>1.000000</td>\n",
       "      <td>3.000000</td>\n",
       "      <td>9.00000</td>\n",
       "      <td>0.260425</td>\n",
       "    </tr>\n",
       "    <tr>\n",
       "      <th>75%</th>\n",
       "      <td>2014.000000</td>\n",
       "      <td>7.500000e+06</td>\n",
       "      <td>1.000000</td>\n",
       "      <td>147.000000</td>\n",
       "      <td>535.750000</td>\n",
       "      <td>72.000000</td>\n",
       "      <td>144.000000</td>\n",
       "      <td>29.000000</td>\n",
       "      <td>3.000000</td>\n",
       "      <td>18.000000</td>\n",
       "      <td>70.00000</td>\n",
       "      <td>11.000000</td>\n",
       "      <td>4.000000</td>\n",
       "      <td>51.000000</td>\n",
       "      <td>106.000000</td>\n",
       "      <td>4.000000</td>\n",
       "      <td>6.000000</td>\n",
       "      <td>3.000000</td>\n",
       "      <td>5.000000</td>\n",
       "      <td>13.00000</td>\n",
       "      <td>0.281879</td>\n",
       "    </tr>\n",
       "    <tr>\n",
       "      <th>max</th>\n",
       "      <td>2015.000000</td>\n",
       "      <td>3.300000e+07</td>\n",
       "      <td>3.000000</td>\n",
       "      <td>162.000000</td>\n",
       "      <td>684.000000</td>\n",
       "      <td>136.000000</td>\n",
       "      <td>225.000000</td>\n",
       "      <td>55.000000</td>\n",
       "      <td>16.000000</td>\n",
       "      <td>54.000000</td>\n",
       "      <td>139.00000</td>\n",
       "      <td>68.000000</td>\n",
       "      <td>23.000000</td>\n",
       "      <td>143.000000</td>\n",
       "      <td>222.000000</td>\n",
       "      <td>38.000000</td>\n",
       "      <td>30.000000</td>\n",
       "      <td>19.000000</td>\n",
       "      <td>12.000000</td>\n",
       "      <td>32.00000</td>\n",
       "      <td>0.362140</td>\n",
       "    </tr>\n",
       "  </tbody>\n",
       "</table>\n",
       "</div>"
      ],
      "text/plain": [
       "            yearID        salary        stint            G           AB            R            H           2B           3B           HR         RBI           SB           CS           BB           SO          IBB          HBP           SH           SF        GIDP           BA\n",
       "count  1762.000000  1.762000e+03  1762.000000  1762.000000  1762.000000  1762.000000  1762.000000  1762.000000  1762.000000  1762.000000  1762.00000  1762.000000  1762.000000  1762.000000  1762.000000  1762.000000  1762.000000  1762.000000  1762.000000  1762.00000  1762.000000\n",
       "mean   2012.484109  5.050967e+06     1.024404   121.410897   420.223610    54.832009   111.038593    22.039160     2.241203    12.883087    52.84790     7.788309     2.909762    39.025539    85.479001     3.092509     4.134506     1.860386     3.393871     9.54143     0.260249\n",
       "std       1.702464  5.662530e+06     0.157980    28.771067   130.776456    23.584231    41.230983     9.577334     2.394923     9.270799    25.01113     9.808039     3.048040    20.552143    35.221597     3.921860     3.645345     2.786931     2.300366     5.42438     0.031627\n",
       "min    2010.000000  4.000000e+05     1.000000    51.000000   200.000000     4.000000    31.000000     2.000000     0.000000     0.000000     8.00000     0.000000     0.000000     4.000000    13.000000     0.000000     0.000000     0.000000     0.000000     0.00000     0.146018\n",
       "25%    2011.000000  5.171250e+05     1.000000    99.000000   304.000000    36.000000    76.000000    14.250000     0.000000     6.000000    33.00000     1.000000     1.000000    23.000000    59.000000     1.000000     2.000000     0.000000     2.000000     6.00000     0.239416\n",
       "50%    2012.000000  2.750000e+06     1.000000   126.000000   422.500000    53.000000   109.000000    21.000000     2.000000    11.000000    49.00000     4.000000     2.000000    35.000000    81.500000     2.000000     3.000000     1.000000     3.000000     9.00000     0.260425\n",
       "75%    2014.000000  7.500000e+06     1.000000   147.000000   535.750000    72.000000   144.000000    29.000000     3.000000    18.000000    70.00000    11.000000     4.000000    51.000000   106.000000     4.000000     6.000000     3.000000     5.000000    13.00000     0.281879\n",
       "max    2015.000000  3.300000e+07     3.000000   162.000000   684.000000   136.000000   225.000000    55.000000    16.000000    54.000000   139.00000    68.000000    23.000000   143.000000   222.000000    38.000000    30.000000    19.000000    12.000000    32.00000     0.362140"
      ]
     },
     "execution_count": 189,
     "metadata": {},
     "output_type": "execute_result"
    }
   ],
   "source": [
    "batting_n_salaries_last5yrs.describe()"
   ]
  },
  {
   "cell_type": "markdown",
   "metadata": {},
   "source": [
    "# Using Pearson's R to find the magnitude of correlation between batting metrices and salary"
   ]
  },
  {
   "cell_type": "code",
   "execution_count": 192,
   "metadata": {
    "collapsed": false
   },
   "outputs": [
    {
     "name": "stdout",
     "output_type": "stream",
     "text": [
      "Pearson's R values:\n",
      "\n",
      "salary and BA: 0.284833952637\n",
      "\n",
      "salary and HR: 0.427740300265\n",
      "\n",
      "salary and RBI: 0.497880404076\n",
      "\n",
      "salary and BB: 0.419211073439\n",
      "\n",
      "salary and SO: 0.134789586788\n"
     ]
    }
   ],
   "source": [
    "#function to find the given average values of specific players\n",
    "def group_playerID_values (value):\n",
    "    z = batting_n_salaries_last5yrs\n",
    "    return z.groupby('playerID').mean()[value]\n",
    "\n",
    "player_salary = group_playerID_values('salary')\n",
    "player_BA = group_playerID_values('BA')\n",
    "player_HR = group_playerID_values('HR')\n",
    "player_RBI = group_playerID_values('RBI')\n",
    "player_SO = group_playerID_values('SO')\n",
    "player_BB = group_playerID_values('BB')\n",
    "\n",
    "#function for Pearson's R test\n",
    "def correlation(x, y):\n",
    "    return (((x-x.mean())/x.std(ddof=0)) * ((y-y.mean())/y.std(ddof=0))).mean()\n",
    "\n",
    "Rvalue_salary_and_BA = correlation(player_salary, player_BA)\n",
    "Rvalue_salary_and_HR = correlation(player_salary, player_HR)\n",
    "Rvalue_salary_and_RBI = correlation(player_salary, player_RBI)\n",
    "Rvalue_salary_and_BB = correlation(player_salary, player_BB)\n",
    "Rvalue_salary_and_SO = correlation(player_salary, player_SO)\n",
    "\n",
    "\n",
    "\n",
    "\n",
    "\n",
    "print \"Pearson's R values:\"\n",
    "print \"\"\n",
    "print 'salary and BA:', Rvalue_salary_and_BA\n",
    "print \"\"\n",
    "print 'salary and HR:', Rvalue_salary_and_HR\n",
    "print \"\"\n",
    "print 'salary and RBI:', Rvalue_salary_and_RBI\n",
    "print \"\"\n",
    "print 'salary and BB:', Rvalue_salary_and_BB\n",
    "print \"\"\n",
    "print 'salary and SO:', Rvalue_salary_and_SO\n"
   ]
  },
  {
   "cell_type": "markdown",
   "metadata": {},
   "source": [
    "##<font color='red'>Testing the significance of Pearson's R values"
   ]
  },
  {
   "cell_type": "markdown",
   "metadata": {},
   "source": [
    "###<font color='red'>Using the following formula: t* = r√(n−2) / (√(1−r^2)), per the following URL: [https://onlinecourses.science.psu.edu/stat501/node/259]\n",
    "###<font color='red'>Where r = Pearson's r"
   ]
  },
  {
   "cell_type": "markdown",
   "metadata": {},
   "source": [
    "###Finding the n for t test below"
   ]
  },
  {
   "cell_type": "code",
   "execution_count": 195,
   "metadata": {
    "collapsed": false
   },
   "outputs": [
    {
     "name": "stdout",
     "output_type": "stream",
     "text": [
      "1762\n"
     ]
    }
   ],
   "source": [
    "print len(batting_n_salaries_last5yrs['playerID'])"
   ]
  },
  {
   "cell_type": "code",
   "execution_count": 196,
   "metadata": {
    "collapsed": false
   },
   "outputs": [],
   "source": [
    "#function for obtaining t value for Pearson's R values\n",
    "def correlation_sig_test(r):\n",
    "    sqrtA = math.sqrt(1760)\n",
    "    sqrtB = math.sqrt(1-(r**2))\n",
    "    return (r * sqrtA)/sqrtB"
   ]
  },
  {
   "cell_type": "markdown",
   "metadata": {},
   "source": [
    "###<font color='red'>Calculate t values for salary/batting stats R values\n",
    ">###<font color='red'>Null hypothesis is existence of correlation (rho): rho = 0\n",
    ">###<font color='red'>Alternate hypothesis: rho ≠ 0"
   ]
  },
  {
   "cell_type": "code",
   "execution_count": 197,
   "metadata": {
    "collapsed": false
   },
   "outputs": [
    {
     "name": "stdout",
     "output_type": "stream",
     "text": [
      "t value for Rvalue_salary_and_BA =  12.4658283974\n",
      "t value for Rvalue_salary_and_HR =  19.8525049678\n",
      "t value for Rvalue_salary_and_RBI =  24.0845874911\n",
      "t value for Rvalue_salary_and_BB =  19.3711953421\n",
      "t value for Rvalue_salary_and_SO =  5.70681949318\n"
     ]
    }
   ],
   "source": [
    "print \"t value for Rvalue_salary_and_BA = \", correlation_sig_test(Rvalue_salary_and_BA)\n",
    "print \"t value for Rvalue_salary_and_HR = \", correlation_sig_test(Rvalue_salary_and_HR)\n",
    "print \"t value for Rvalue_salary_and_RBI = \", correlation_sig_test(Rvalue_salary_and_RBI)\n",
    "print \"t value for Rvalue_salary_and_BB = \", correlation_sig_test(Rvalue_salary_and_BB)\n",
    "print \"t value for Rvalue_salary_and_SO = \", correlation_sig_test(Rvalue_salary_and_SO)"
   ]
  },
  {
   "cell_type": "markdown",
   "metadata": {},
   "source": [
    "###<font color='red'>Results of t test for salary/batting stats R values: \n",
    ">###<font color='red'>Null hypothesis is rejected for all R values above since t critical value for 1780 degree of freedom \n",
    ">###<font color='red'>for .025 p value(two-tailed test) is between 1.960 and 1.962\n",
    ">###<font color='red'>Thus, all correlations above are significance"
   ]
  },
  {
   "cell_type": "markdown",
   "metadata": {},
   "source": [
    "##Conclusion 1:\n",
    ">###Using Pearson's R test and t test it is found that the correlation of the tested batting stats to salary are <font color='red'> significant (p = 0.05), and are ranked as follows: RBI > HR > BB > BA > SO.  This does not indicate that having higher said stat in isolation will directly result in higher salary, since other stats are not constant for each player while this analysis was performed, as well as unforseen events not detected in our data/tests.\n",
    ">###In addition, using average batting stats and salary may not be the best approach, however, since there may be aforementioned event(s) that seemingly can disrupt the correlation, e.g. poor performance after a salary raise.  Another approach attempting to address this question will be presented below."
   ]
  },
  {
   "cell_type": "markdown",
   "metadata": {},
   "source": [
    "# Plotting average batting matrices v.s. average salary"
   ]
  },
  {
   "cell_type": "markdown",
   "metadata": {},
   "source": [
    "##<font color='red'>Using scatter plot to visualize correlations"
   ]
  },
  {
   "cell_type": "code",
   "execution_count": 198,
   "metadata": {
    "collapsed": false
   },
   "outputs": [
    {
     "data": {
      "text/plain": [
       "<matplotlib.text.Text at 0x116079490>"
      ]
     },
     "execution_count": 198,
     "metadata": {},
     "output_type": "execute_result"
    },
    {
     "data": {
      "image/png": "[encoded data removed]",
      "text/plain": [
       "<matplotlib.figure.Figure at 0x12084ffd0>"
      ]
     },
     "metadata": {},
     "output_type": "display_data"
    }
   ],
   "source": [
    "axs5yrsBA = batting_n_salaries_last5yrs.plot(x='BA', y='salary', style='o')\n",
    "\n",
    "axs5yrsBA.set_ylim(100000,50000000)\n",
    "axs5yrsBA.set_xlim(0.10,0.4)\n",
    "axs5yrsBA.set_ylabel(\"salary\")\n",
    "axs5yrsBA.set_title('BA vs salary')"
   ]
  },
  {
   "cell_type": "code",
   "execution_count": 199,
   "metadata": {
    "collapsed": false
   },
   "outputs": [
    {
     "data": {
      "text/plain": [
       "<matplotlib.text.Text at 0x123c7f610>"
      ]
     },
     "execution_count": 199,
     "metadata": {},
     "output_type": "execute_result"
    },
    {
     "data": {
      "image/png": "[encoded data removed]",
      "text/plain": [
       "<matplotlib.figure.Figure at 0x128a2e390>"
      ]
     },
     "metadata": {},
     "output_type": "display_data"
    }
   ],
   "source": [
    "axs5yrsHR = batting_n_salaries_last5yrs.plot(x='HR', y='salary', style='o')\n",
    "\n",
    "axs5yrsHR.set_ylim(100000,50000000)\n",
    "axs5yrsHR.set_xlim(0,100)\n",
    "axs5yrsHR.set_ylabel(\"salary\")\n",
    "axs5yrsHR.set_title('HR vs salary')"
   ]
  },
  {
   "cell_type": "code",
   "execution_count": 200,
   "metadata": {
    "collapsed": false
   },
   "outputs": [
    {
     "data": {
      "text/plain": [
       "<matplotlib.text.Text at 0x123e51290>"
      ]
     },
     "execution_count": 200,
     "metadata": {},
     "output_type": "execute_result"
    },
    {
     "data": {
      "image/png": "[encoded data removed]",
      "text/plain": [
       "<matplotlib.figure.Figure at 0x123bd5c90>"
      ]
     },
     "metadata": {},
     "output_type": "display_data"
    }
   ],
   "source": [
    "axs5yrsRBI = batting_n_salaries_last5yrs.plot(x='RBI', y='salary', style='o')\n",
    "\n",
    "axs5yrsRBI.set_ylim(100000,50000000)\n",
    "axs5yrsRBI.set_xlim(0,200)\n",
    "axs5yrsRBI.set_ylabel(\"salary\")\n",
    "axs5yrsRBI.set_title('RBI vs salary')"
   ]
  },
  {
   "cell_type": "code",
   "execution_count": 201,
   "metadata": {
    "collapsed": false
   },
   "outputs": [
    {
     "data": {
      "text/plain": [
       "<matplotlib.text.Text at 0x1243f2610>"
      ]
     },
     "execution_count": 201,
     "metadata": {},
     "output_type": "execute_result"
    },
    {
     "data": {
      "image/png": "[encoded data removed]",
      "text/plain": [
       "<matplotlib.figure.Figure at 0x1241fef90>"
      ]
     },
     "metadata": {},
     "output_type": "display_data"
    }
   ],
   "source": [
    "axs5yrsBB = batting_n_salaries_last5yrs.plot(x='BB', y='salary', style='o')\n",
    "\n",
    "axs5yrsBB.set_ylim(100000,50000000)\n",
    "axs5yrsBB.set_xlim(0,200)\n",
    "axs5yrsBB.set_ylabel(\"salary\")\n",
    "axs5yrsBB.set_title('BB vs salary')"
   ]
  },
  {
   "cell_type": "code",
   "execution_count": 202,
   "metadata": {
    "collapsed": false
   },
   "outputs": [
    {
     "data": {
      "text/plain": [
       "<matplotlib.text.Text at 0x1244d9fd0>"
      ]
     },
     "execution_count": 202,
     "metadata": {},
     "output_type": "execute_result"
    },
    {
     "data": {
      "image/png": "[encoded data removed]",
      "text/plain": [
       "<matplotlib.figure.Figure at 0x123d61b90>"
      ]
     },
     "metadata": {},
     "output_type": "display_data"
    }
   ],
   "source": [
    "axs5yrsSO = batting_n_salaries_last5yrs.plot(x='SO', y='salary', style='o')\n",
    "\n",
    "axs5yrsSO.set_ylim(100000,50000000)\n",
    "axs5yrsSO.set_xlim(0,300)\n",
    "axs5yrsSO.set_ylabel(\"salary\")\n",
    "axs5yrsSO.set_title('SO vs salary')"
   ]
  },
  {
   "cell_type": "markdown",
   "metadata": {
    "collapsed": true
   },
   "source": [
    "##Need to resolve the scoatter plots above, although the scatter plot suggests that the correlation is positive for salary and all batting stats.\n",
    "> ###Strategy: Try using qcut() funciton to bin the batting stats to resolve the plots above. \n",
    "> ###Bin BA, then average salary per that Bin > plot with average salary line as a reference.\n"
   ]
  },
  {
   "cell_type": "code",
   "execution_count": 203,
   "metadata": {
    "collapsed": false
   },
   "outputs": [
    {
     "data": {
      "text/html": [
       "<div>\n",
       "<table border=\"1\" class=\"dataframe\">\n",
       "  <thead>\n",
       "    <tr style=\"text-align: right;\">\n",
       "      <th></th>\n",
       "      <th>yearID</th>\n",
       "      <th>teamID_x</th>\n",
       "      <th>lgID_x</th>\n",
       "      <th>playerID</th>\n",
       "      <th>salary</th>\n",
       "      <th>stint</th>\n",
       "      <th>teamID_y</th>\n",
       "      <th>lgID_y</th>\n",
       "      <th>G</th>\n",
       "      <th>AB</th>\n",
       "      <th>R</th>\n",
       "      <th>H</th>\n",
       "      <th>2B</th>\n",
       "      <th>3B</th>\n",
       "      <th>HR</th>\n",
       "      <th>RBI</th>\n",
       "      <th>SB</th>\n",
       "      <th>CS</th>\n",
       "      <th>BB</th>\n",
       "      <th>SO</th>\n",
       "      <th>IBB</th>\n",
       "      <th>HBP</th>\n",
       "      <th>SH</th>\n",
       "      <th>SF</th>\n",
       "      <th>GIDP</th>\n",
       "      <th>BA</th>\n",
       "      <th>BAbin</th>\n",
       "      <th>HRbin</th>\n",
       "      <th>RBIbin</th>\n",
       "      <th>BBbin</th>\n",
       "      <th>SObin</th>\n",
       "    </tr>\n",
       "  </thead>\n",
       "  <tbody>\n",
       "    <tr>\n",
       "      <th>0</th>\n",
       "      <td>2010</td>\n",
       "      <td>ARI</td>\n",
       "      <td>NL</td>\n",
       "      <td>drewst01</td>\n",
       "      <td>3400000</td>\n",
       "      <td>1</td>\n",
       "      <td>ARI</td>\n",
       "      <td>NL</td>\n",
       "      <td>151</td>\n",
       "      <td>565.0</td>\n",
       "      <td>83.0</td>\n",
       "      <td>157.0</td>\n",
       "      <td>33.0</td>\n",
       "      <td>12.0</td>\n",
       "      <td>15.0</td>\n",
       "      <td>61.0</td>\n",
       "      <td>10.0</td>\n",
       "      <td>5.0</td>\n",
       "      <td>62.0</td>\n",
       "      <td>108.0</td>\n",
       "      <td>2.0</td>\n",
       "      <td>3.0</td>\n",
       "      <td>2.0</td>\n",
       "      <td>1.0</td>\n",
       "      <td>7.0</td>\n",
       "      <td>0.277876</td>\n",
       "      <td>2nd</td>\n",
       "      <td>2nd</td>\n",
       "      <td>2nd</td>\n",
       "      <td>1st</td>\n",
       "      <td>2nd</td>\n",
       "    </tr>\n",
       "    <tr>\n",
       "      <th>1</th>\n",
       "      <td>2010</td>\n",
       "      <td>ARI</td>\n",
       "      <td>NL</td>\n",
       "      <td>johnske05</td>\n",
       "      <td>2350000</td>\n",
       "      <td>1</td>\n",
       "      <td>ARI</td>\n",
       "      <td>NL</td>\n",
       "      <td>154</td>\n",
       "      <td>585.0</td>\n",
       "      <td>93.0</td>\n",
       "      <td>166.0</td>\n",
       "      <td>36.0</td>\n",
       "      <td>5.0</td>\n",
       "      <td>26.0</td>\n",
       "      <td>71.0</td>\n",
       "      <td>13.0</td>\n",
       "      <td>7.0</td>\n",
       "      <td>79.0</td>\n",
       "      <td>148.0</td>\n",
       "      <td>1.0</td>\n",
       "      <td>2.0</td>\n",
       "      <td>3.0</td>\n",
       "      <td>2.0</td>\n",
       "      <td>12.0</td>\n",
       "      <td>0.283761</td>\n",
       "      <td>2nd</td>\n",
       "      <td>1st</td>\n",
       "      <td>2nd</td>\n",
       "      <td>1st</td>\n",
       "      <td>1st</td>\n",
       "    </tr>\n",
       "    <tr>\n",
       "      <th>2</th>\n",
       "      <td>2010</td>\n",
       "      <td>ARI</td>\n",
       "      <td>NL</td>\n",
       "      <td>larocad01</td>\n",
       "      <td>4500000</td>\n",
       "      <td>1</td>\n",
       "      <td>ARI</td>\n",
       "      <td>NL</td>\n",
       "      <td>151</td>\n",
       "      <td>560.0</td>\n",
       "      <td>75.0</td>\n",
       "      <td>146.0</td>\n",
       "      <td>37.0</td>\n",
       "      <td>2.0</td>\n",
       "      <td>25.0</td>\n",
       "      <td>100.0</td>\n",
       "      <td>0.0</td>\n",
       "      <td>1.0</td>\n",
       "      <td>48.0</td>\n",
       "      <td>172.0</td>\n",
       "      <td>4.0</td>\n",
       "      <td>3.0</td>\n",
       "      <td>0.0</td>\n",
       "      <td>4.0</td>\n",
       "      <td>8.0</td>\n",
       "      <td>0.260714</td>\n",
       "      <td>3rd</td>\n",
       "      <td>1st</td>\n",
       "      <td>1st</td>\n",
       "      <td>2nd</td>\n",
       "      <td>1st</td>\n",
       "    </tr>\n",
       "    <tr>\n",
       "      <th>3</th>\n",
       "      <td>2010</td>\n",
       "      <td>ARI</td>\n",
       "      <td>NL</td>\n",
       "      <td>montemi01</td>\n",
       "      <td>2000000</td>\n",
       "      <td>1</td>\n",
       "      <td>ARI</td>\n",
       "      <td>NL</td>\n",
       "      <td>85</td>\n",
       "      <td>297.0</td>\n",
       "      <td>36.0</td>\n",
       "      <td>79.0</td>\n",
       "      <td>20.0</td>\n",
       "      <td>2.0</td>\n",
       "      <td>9.0</td>\n",
       "      <td>43.0</td>\n",
       "      <td>0.0</td>\n",
       "      <td>1.0</td>\n",
       "      <td>29.0</td>\n",
       "      <td>71.0</td>\n",
       "      <td>3.0</td>\n",
       "      <td>2.0</td>\n",
       "      <td>0.0</td>\n",
       "      <td>3.0</td>\n",
       "      <td>10.0</td>\n",
       "      <td>0.265993</td>\n",
       "      <td>3rd</td>\n",
       "      <td>4th</td>\n",
       "      <td>3rd</td>\n",
       "      <td>4th</td>\n",
       "      <td>4th</td>\n",
       "    </tr>\n",
       "    <tr>\n",
       "      <th>4</th>\n",
       "      <td>2010</td>\n",
       "      <td>ARI</td>\n",
       "      <td>NL</td>\n",
       "      <td>parrage01</td>\n",
       "      <td>405500</td>\n",
       "      <td>1</td>\n",
       "      <td>ARI</td>\n",
       "      <td>NL</td>\n",
       "      <td>133</td>\n",
       "      <td>364.0</td>\n",
       "      <td>31.0</td>\n",
       "      <td>95.0</td>\n",
       "      <td>19.0</td>\n",
       "      <td>6.0</td>\n",
       "      <td>3.0</td>\n",
       "      <td>30.0</td>\n",
       "      <td>1.0</td>\n",
       "      <td>0.0</td>\n",
       "      <td>23.0</td>\n",
       "      <td>76.0</td>\n",
       "      <td>10.0</td>\n",
       "      <td>2.0</td>\n",
       "      <td>3.0</td>\n",
       "      <td>1.0</td>\n",
       "      <td>8.0</td>\n",
       "      <td>0.260989</td>\n",
       "      <td>3rd</td>\n",
       "      <td>5th</td>\n",
       "      <td>5th</td>\n",
       "      <td>4th</td>\n",
       "      <td>3rd</td>\n",
       "    </tr>\n",
       "  </tbody>\n",
       "</table>\n",
       "</div>"
      ],
      "text/plain": [
       "   yearID teamID_x lgID_x   playerID   salary  stint teamID_y lgID_y    G     AB     R      H    2B    3B    HR    RBI    SB   CS    BB     SO   IBB  HBP   SH   SF  GIDP        BA BAbin HRbin RBIbin BBbin SObin\n",
       "0    2010      ARI     NL   drewst01  3400000      1      ARI     NL  151  565.0  83.0  157.0  33.0  12.0  15.0   61.0  10.0  5.0  62.0  108.0   2.0  3.0  2.0  1.0   7.0  0.277876   2nd   2nd    2nd   1st   2nd\n",
       "1    2010      ARI     NL  johnske05  2350000      1      ARI     NL  154  585.0  93.0  166.0  36.0   5.0  26.0   71.0  13.0  7.0  79.0  148.0   1.0  2.0  3.0  2.0  12.0  0.283761   2nd   1st    2nd   1st   1st\n",
       "2    2010      ARI     NL  larocad01  4500000      1      ARI     NL  151  560.0  75.0  146.0  37.0   2.0  25.0  100.0   0.0  1.0  48.0  172.0   4.0  3.0  0.0  4.0   8.0  0.260714   3rd   1st    1st   2nd   1st\n",
       "3    2010      ARI     NL  montemi01  2000000      1      ARI     NL   85  297.0  36.0   79.0  20.0   2.0   9.0   43.0   0.0  1.0  29.0   71.0   3.0  2.0  0.0  3.0  10.0  0.265993   3rd   4th    3rd   4th   4th\n",
       "4    2010      ARI     NL  parrage01   405500      1      ARI     NL  133  364.0  31.0   95.0  19.0   6.0   3.0   30.0   1.0  0.0  23.0   76.0  10.0  2.0  3.0  1.0   8.0  0.260989   3rd   5th    5th   4th   3rd"
      ]
     },
     "execution_count": 203,
     "metadata": {},
     "output_type": "execute_result"
    }
   ],
   "source": [
    "#function for binning bating stats\n",
    "def binning(data):\n",
    "        return pd.qcut(data, [0, 0.2, 0.4, 0.6, 0.8, 1], labels=['5th', '4th', '3rd', '2nd', '1st'])\n",
    "batting_n_salaries_last5yrs['BAbin'] = binning(batting_n_salaries_last5yrs['BA'])\n",
    "batting_n_salaries_last5yrs['HRbin'] = binning(batting_n_salaries_last5yrs['HR'])\n",
    "batting_n_salaries_last5yrs['RBIbin'] = binning(batting_n_salaries_last5yrs['RBI'])\n",
    "batting_n_salaries_last5yrs['BBbin'] = binning(batting_n_salaries_last5yrs['BB'])\n",
    "batting_n_salaries_last5yrs['SObin'] = binning(batting_n_salaries_last5yrs['SO'])\n",
    "\n",
    "\n",
    "batting_n_salaries_last5yrs.head()"
   ]
  },
  {
   "cell_type": "markdown",
   "metadata": {},
   "source": [
    "###<font color='red'>Use binned values to plot (dot plot).  The average salary for the whole population is depicted by the blue line."
   ]
  },
  {
   "cell_type": "code",
   "execution_count": 208,
   "metadata": {
    "collapsed": false
   },
   "outputs": [
    {
     "data": {
      "text/plain": [
       "<matplotlib.text.Text at 0x128fcc090>"
      ]
     },
     "execution_count": 208,
     "metadata": {},
     "output_type": "execute_result"
    },
    {
     "data": {
      "image/png": "[encoded data removed]",
      "text/plain": [
       "<matplotlib.figure.Figure at 0x128b03f50>"
      ]
     },
     "metadata": {},
     "output_type": "display_data"
    }
   ],
   "source": [
    "salaryBAbinaxs = batting_n_salaries_last5yrs.groupby('BAbin').mean()['salary']\n",
    "axsBAbin = salaryBAbinaxs.plot(x='BAbin', y='salary', style='o')\n",
    "\n",
    "mean_salary = batting_n_salaries_last5yrs.mean()['salary']\n",
    "\n",
    "axsBAbin.set_ylim(000000,10000000)\n",
    "axsBAbin.set_xlabel(\"BA quintile\")\n",
    "axsBAbin.set_ylabel(\"salary\")\n",
    "axsBAbin.axhline(y=5050966.57435,xmin=0,xmax=3,c=\"blue\",linewidth=0.5,zorder=0)\n",
    "\n",
    "axsBAbin.set_title('BA quintiles vs salary')"
   ]
  },
  {
   "cell_type": "code",
   "execution_count": 209,
   "metadata": {
    "collapsed": false
   },
   "outputs": [
    {
     "data": {
      "text/plain": [
       "<matplotlib.text.Text at 0x12907ff50>"
      ]
     },
     "execution_count": 209,
     "metadata": {},
     "output_type": "execute_result"
    },
    {
     "data": {
      "image/png": "[encoded data removed]",
      "text/plain": [
       "<matplotlib.figure.Figure at 0x125b59bd0>"
      ]
     },
     "metadata": {},
     "output_type": "display_data"
    }
   ],
   "source": [
    "salaryHRbinaxs = batting_n_salaries_last5yrs.groupby('HRbin').mean()['salary']\n",
    "#BAbingroup = batting_n_salaries_last5yrs.groupby('BAbin', as_index=False)\n",
    "axsHRbin = salaryHRbinaxs.plot(x='HRbin', y='salary', style='o')\n",
    "\n",
    "axsHRbin.set_ylim(000000,10000000)\n",
    "axsHRbin.set_xlabel(\"HR quintile\")\n",
    "axsHRbin.set_ylabel(\"salary\")\n",
    "axsHRbin.axhline(y=5050966.57435,xmin=0,xmax=3,c=\"blue\",linewidth=0.5,zorder=0)\n",
    "axsHRbin.set_title('HR quintiles vs salary')"
   ]
  },
  {
   "cell_type": "code",
   "execution_count": 210,
   "metadata": {
    "collapsed": false
   },
   "outputs": [
    {
     "data": {
      "text/plain": [
       "<matplotlib.text.Text at 0x1295bf250>"
      ]
     },
     "execution_count": 210,
     "metadata": {},
     "output_type": "execute_result"
    },
    {
     "data": {
      "image/png": "[encoded data removed]",
      "text/plain": [
       "<matplotlib.figure.Figure at 0x1294bc5d0>"
      ]
     },
     "metadata": {},
     "output_type": "display_data"
    }
   ],
   "source": [
    "salaryRBIbinaxs = batting_n_salaries_last5yrs.groupby('RBIbin').mean()['salary']\n",
    "#BAbingroup = batting_n_salaries_last5yrs.groupby('BAbin', as_index=False)\n",
    "axsRBIbin = salaryRBIbinaxs.plot(x='RBIbin', y='salary', style='o')\n",
    "\n",
    "axsRBIbin.set_ylim(000000,10000000)\n",
    "axsRBIbin.set_xlabel(\"RBI quintile\")\n",
    "axsRBIbin.set_ylabel(\"salary\")\n",
    "axsRBIbin.axhline(y=5050966.57435,xmin=0,xmax=3,c=\"blue\",linewidth=0.5,zorder=0)\n",
    "axsRBIbin.set_title('RBI quintiles vs salary')"
   ]
  },
  {
   "cell_type": "code",
   "execution_count": 211,
   "metadata": {
    "collapsed": false
   },
   "outputs": [
    {
     "data": {
      "text/plain": [
       "<matplotlib.text.Text at 0x12993ecd0>"
      ]
     },
     "execution_count": 211,
     "metadata": {},
     "output_type": "execute_result"
    },
    {
     "data": {
      "image/png": "[encoded data removed]",
      "text/plain": [
       "<matplotlib.figure.Figure at 0x1290fa910>"
      ]
     },
     "metadata": {},
     "output_type": "display_data"
    }
   ],
   "source": [
    "salaryBBbinaxs = batting_n_salaries_last5yrs.groupby('BBbin').mean()['salary']\n",
    "#BAbingroup = batting_n_salaries_last5yrs.groupby('BAbin', as_index=False)\n",
    "axsBBbin = salaryBBbinaxs.plot(x='BBbin', y='salary', style='o')\n",
    "\n",
    "axsBBbin.set_ylim(000000,10000000)\n",
    "axsBBbin.set_xlabel(\"BB quintile\")\n",
    "axsBBbin.set_ylabel(\"salary\")\n",
    "axsBBbin.axhline(y=5050966.57435,xmin=0,xmax=3,c=\"blue\",linewidth=0.5,zorder=0)\n",
    "axsBBbin.set_title('BB quintiles vs salary')"
   ]
  },
  {
   "cell_type": "code",
   "execution_count": 212,
   "metadata": {
    "collapsed": false
   },
   "outputs": [
    {
     "data": {
      "text/plain": [
       "<matplotlib.text.Text at 0x129a57d10>"
      ]
     },
     "execution_count": 212,
     "metadata": {},
     "output_type": "execute_result"
    },
    {
     "data": {
      "image/png": "[encoded data removed]",
      "text/plain": [
       "<matplotlib.figure.Figure at 0x1298d1f10>"
      ]
     },
     "metadata": {},
     "output_type": "display_data"
    }
   ],
   "source": [
    "salarySObinaxs = batting_n_salaries_last5yrs.groupby('SObin').mean()['salary']\n",
    "#BAbingroup = batting_n_salaries_last5yrs.groupby('BAbin', as_index=False)\n",
    "axsSObin = salarySObinaxs.plot(x='SO', y='salary', style='o')\n",
    "\n",
    "axsSObin.set_ylim(000000,10000000)\n",
    "axsSObin.set_xlabel(\"SO quintile\")\n",
    "axsSObin.set_ylabel(\"salary\")\n",
    "axsSObin.axhline(y=5050966.57435,xmin=0,xmax=3,c=\"blue\",linewidth=0.5,zorder=0)\n",
    "axsSObin.set_title('SO quintiles vs salary')"
   ]
  },
  {
   "cell_type": "markdown",
   "metadata": {},
   "source": [
    "###<font color='red'> Use binned values to plot (box plot)"
   ]
  },
  {
   "cell_type": "code",
   "execution_count": 213,
   "metadata": {
    "collapsed": false
   },
   "outputs": [
    {
     "data": {
      "text/plain": [
       "<matplotlib.axes._subplots.AxesSubplot at 0x12995d610>"
      ]
     },
     "execution_count": 213,
     "metadata": {},
     "output_type": "execute_result"
    },
    {
     "data": {
      "image/png": "[encoded data removed]",
      "text/plain": [
       "<matplotlib.figure.Figure at 0x1294db790>"
      ]
     },
     "metadata": {},
     "output_type": "display_data"
    }
   ],
   "source": [
    "batting_n_salaries_last5yrs.boxplot(column='salary', by='BAbin')"
   ]
  },
  {
   "cell_type": "code",
   "execution_count": 214,
   "metadata": {
    "collapsed": false
   },
   "outputs": [
    {
     "data": {
      "text/plain": [
       "<matplotlib.axes._subplots.AxesSubplot at 0x129f6ced0>"
      ]
     },
     "execution_count": 214,
     "metadata": {},
     "output_type": "execute_result"
    },
    {
     "data": {
      "image/png": "[encoded data removed]",
      "text/plain": [
       "<matplotlib.figure.Figure at 0x126413350>"
      ]
     },
     "metadata": {},
     "output_type": "display_data"
    }
   ],
   "source": [
    "batting_n_salaries_last5yrs.boxplot(column='salary', by='HRbin')"
   ]
  },
  {
   "cell_type": "code",
   "execution_count": 215,
   "metadata": {
    "collapsed": false
   },
   "outputs": [
    {
     "data": {
      "text/plain": [
       "<matplotlib.axes._subplots.AxesSubplot at 0x129f6c390>"
      ]
     },
     "execution_count": 215,
     "metadata": {},
     "output_type": "execute_result"
    },
    {
     "data": {
      "image/png": "[encoded data removed]",
      "text/plain": [
       "<matplotlib.figure.Figure at 0x128b87b10>"
      ]
     },
     "metadata": {},
     "output_type": "display_data"
    }
   ],
   "source": [
    "batting_n_salaries_last5yrs.boxplot(column='salary', by='RBIbin')"
   ]
  },
  {
   "cell_type": "code",
   "execution_count": 216,
   "metadata": {
    "collapsed": false,
    "scrolled": true
   },
   "outputs": [
    {
     "data": {
      "text/plain": [
       "<matplotlib.axes._subplots.AxesSubplot at 0x12a696b50>"
      ]
     },
     "execution_count": 216,
     "metadata": {},
     "output_type": "execute_result"
    },
    {
     "data": {
      "image/png": "[encoded data removed]",
      "text/plain": [
       "<matplotlib.figure.Figure at 0x128b879d0>"
      ]
     },
     "metadata": {},
     "output_type": "display_data"
    }
   ],
   "source": [
    "batting_n_salaries_last5yrs.boxplot(column='salary', by='BBbin')"
   ]
  },
  {
   "cell_type": "code",
   "execution_count": 217,
   "metadata": {
    "collapsed": false
   },
   "outputs": [
    {
     "data": {
      "text/plain": [
       "<matplotlib.axes._subplots.AxesSubplot at 0x12e010e50>"
      ]
     },
     "execution_count": 217,
     "metadata": {},
     "output_type": "execute_result"
    },
    {
     "data": {
      "image/png": "[encoded data removed]",
      "text/plain": [
       "<matplotlib.figure.Figure at 0x12e004f90>"
      ]
     },
     "metadata": {},
     "output_type": "display_data"
    }
   ],
   "source": [
    "batting_n_salaries_last5yrs.boxplot(column='salary', by='SObin')"
   ]
  },
  {
   "cell_type": "markdown",
   "metadata": {},
   "source": [
    "##Conclusion 2:\n",
    ">###Consistent with Pearson's R test for average batting stats and avg. salary, players with batting stats in the first and second quintiles consistently placed above the average salary.\n"
   ]
  },
  {
   "cell_type": "markdown",
   "metadata": {},
   "source": [
    "# Alternative approach to find correlation\n",
    ">Possible Caveat with the previous correlation: a good BA may decline but the associated salary from said BA does not decline due to the length of the contract signed when the BA was at peak--this will dilute the BA against a stable salary and misrepresent the correlation.  \n",
    "\n",
    ">Thus, an alternative approach is to correlate the maximum salary and maximum BA, with the assumption that the max BA will results in max salary, and that it is very unlikely that a random (fluke) high batting average will result in an increased salary--after all, a maintained improved BA is required to increase the salary."
   ]
  },
  {
   "cell_type": "code",
   "execution_count": 218,
   "metadata": {
    "collapsed": false
   },
   "outputs": [
    {
     "data": {
      "text/html": [
       "<div>\n",
       "<table border=\"1\" class=\"dataframe\">\n",
       "  <thead>\n",
       "    <tr style=\"text-align: right;\">\n",
       "      <th></th>\n",
       "      <th>playerID</th>\n",
       "      <th>yearID</th>\n",
       "      <th>teamID_x</th>\n",
       "      <th>lgID_x</th>\n",
       "      <th>salary</th>\n",
       "      <th>stint</th>\n",
       "      <th>teamID_y</th>\n",
       "      <th>lgID_y</th>\n",
       "      <th>G</th>\n",
       "      <th>AB</th>\n",
       "      <th>R</th>\n",
       "      <th>H</th>\n",
       "      <th>2B</th>\n",
       "      <th>3B</th>\n",
       "      <th>HR</th>\n",
       "      <th>RBI</th>\n",
       "      <th>SB</th>\n",
       "      <th>CS</th>\n",
       "      <th>BB</th>\n",
       "      <th>SO</th>\n",
       "      <th>IBB</th>\n",
       "      <th>HBP</th>\n",
       "      <th>SH</th>\n",
       "      <th>SF</th>\n",
       "      <th>GIDP</th>\n",
       "      <th>BA</th>\n",
       "      <th>BAbin</th>\n",
       "      <th>HRbin</th>\n",
       "      <th>RBIbin</th>\n",
       "      <th>BBbin</th>\n",
       "      <th>SObin</th>\n",
       "    </tr>\n",
       "  </thead>\n",
       "  <tbody>\n",
       "    <tr>\n",
       "      <th>0</th>\n",
       "      <td>abreubo01</td>\n",
       "      <td>2011</td>\n",
       "      <td>LAA</td>\n",
       "      <td>AL</td>\n",
       "      <td>9000000</td>\n",
       "      <td>1</td>\n",
       "      <td>LAA</td>\n",
       "      <td>AL</td>\n",
       "      <td>142</td>\n",
       "      <td>502.0</td>\n",
       "      <td>54.0</td>\n",
       "      <td>127.0</td>\n",
       "      <td>30.0</td>\n",
       "      <td>1.0</td>\n",
       "      <td>8.0</td>\n",
       "      <td>60.0</td>\n",
       "      <td>21.0</td>\n",
       "      <td>5.0</td>\n",
       "      <td>78.0</td>\n",
       "      <td>113.0</td>\n",
       "      <td>5.0</td>\n",
       "      <td>1.0</td>\n",
       "      <td>1.0</td>\n",
       "      <td>3.0</td>\n",
       "      <td>8.0</td>\n",
       "      <td>0.252988</td>\n",
       "      <td>3rd</td>\n",
       "      <td>4th</td>\n",
       "      <td>2nd</td>\n",
       "      <td>1st</td>\n",
       "      <td>2nd</td>\n",
       "    </tr>\n",
       "    <tr>\n",
       "      <th>1</th>\n",
       "      <td>abreujo02</td>\n",
       "      <td>2015</td>\n",
       "      <td>CHA</td>\n",
       "      <td>AL</td>\n",
       "      <td>8666000</td>\n",
       "      <td>1</td>\n",
       "      <td>CHA</td>\n",
       "      <td>AL</td>\n",
       "      <td>154</td>\n",
       "      <td>613.0</td>\n",
       "      <td>88.0</td>\n",
       "      <td>178.0</td>\n",
       "      <td>34.0</td>\n",
       "      <td>3.0</td>\n",
       "      <td>30.0</td>\n",
       "      <td>101.0</td>\n",
       "      <td>0.0</td>\n",
       "      <td>0.0</td>\n",
       "      <td>39.0</td>\n",
       "      <td>140.0</td>\n",
       "      <td>11.0</td>\n",
       "      <td>15.0</td>\n",
       "      <td>0.0</td>\n",
       "      <td>1.0</td>\n",
       "      <td>16.0</td>\n",
       "      <td>0.290375</td>\n",
       "      <td>1st</td>\n",
       "      <td>1st</td>\n",
       "      <td>1st</td>\n",
       "      <td>3rd</td>\n",
       "      <td>1st</td>\n",
       "    </tr>\n",
       "    <tr>\n",
       "      <th>2</th>\n",
       "      <td>ackledu01</td>\n",
       "      <td>2013</td>\n",
       "      <td>SEA</td>\n",
       "      <td>AL</td>\n",
       "      <td>2700000</td>\n",
       "      <td>1</td>\n",
       "      <td>SEA</td>\n",
       "      <td>AL</td>\n",
       "      <td>113</td>\n",
       "      <td>384.0</td>\n",
       "      <td>40.0</td>\n",
       "      <td>97.0</td>\n",
       "      <td>18.0</td>\n",
       "      <td>2.0</td>\n",
       "      <td>4.0</td>\n",
       "      <td>31.0</td>\n",
       "      <td>2.0</td>\n",
       "      <td>3.0</td>\n",
       "      <td>37.0</td>\n",
       "      <td>72.0</td>\n",
       "      <td>1.0</td>\n",
       "      <td>1.0</td>\n",
       "      <td>4.0</td>\n",
       "      <td>1.0</td>\n",
       "      <td>6.0</td>\n",
       "      <td>0.252604</td>\n",
       "      <td>3rd</td>\n",
       "      <td>5th</td>\n",
       "      <td>4th</td>\n",
       "      <td>3rd</td>\n",
       "      <td>4th</td>\n",
       "    </tr>\n",
       "    <tr>\n",
       "      <th>3</th>\n",
       "      <td>adamsma01</td>\n",
       "      <td>2014</td>\n",
       "      <td>SLN</td>\n",
       "      <td>NL</td>\n",
       "      <td>516000</td>\n",
       "      <td>1</td>\n",
       "      <td>SLN</td>\n",
       "      <td>NL</td>\n",
       "      <td>142</td>\n",
       "      <td>527.0</td>\n",
       "      <td>55.0</td>\n",
       "      <td>152.0</td>\n",
       "      <td>34.0</td>\n",
       "      <td>5.0</td>\n",
       "      <td>15.0</td>\n",
       "      <td>68.0</td>\n",
       "      <td>3.0</td>\n",
       "      <td>2.0</td>\n",
       "      <td>26.0</td>\n",
       "      <td>114.0</td>\n",
       "      <td>5.0</td>\n",
       "      <td>3.0</td>\n",
       "      <td>0.0</td>\n",
       "      <td>7.0</td>\n",
       "      <td>9.0</td>\n",
       "      <td>0.288425</td>\n",
       "      <td>1st</td>\n",
       "      <td>2nd</td>\n",
       "      <td>2nd</td>\n",
       "      <td>4th</td>\n",
       "      <td>1st</td>\n",
       "    </tr>\n",
       "    <tr>\n",
       "      <th>4</th>\n",
       "      <td>ahmedni01</td>\n",
       "      <td>2015</td>\n",
       "      <td>ARI</td>\n",
       "      <td>NL</td>\n",
       "      <td>508500</td>\n",
       "      <td>1</td>\n",
       "      <td>ARI</td>\n",
       "      <td>NL</td>\n",
       "      <td>134</td>\n",
       "      <td>421.0</td>\n",
       "      <td>49.0</td>\n",
       "      <td>95.0</td>\n",
       "      <td>17.0</td>\n",
       "      <td>6.0</td>\n",
       "      <td>9.0</td>\n",
       "      <td>34.0</td>\n",
       "      <td>4.0</td>\n",
       "      <td>5.0</td>\n",
       "      <td>29.0</td>\n",
       "      <td>81.0</td>\n",
       "      <td>1.0</td>\n",
       "      <td>1.0</td>\n",
       "      <td>5.0</td>\n",
       "      <td>3.0</td>\n",
       "      <td>4.0</td>\n",
       "      <td>0.225653</td>\n",
       "      <td>5th</td>\n",
       "      <td>4th</td>\n",
       "      <td>4th</td>\n",
       "      <td>4th</td>\n",
       "      <td>3rd</td>\n",
       "    </tr>\n",
       "  </tbody>\n",
       "</table>\n",
       "</div>"
      ],
      "text/plain": [
       "    playerID  yearID teamID_x lgID_x   salary  stint teamID_y lgID_y    G     AB     R      H    2B   3B    HR    RBI    SB   CS    BB     SO   IBB   HBP   SH   SF  GIDP        BA BAbin HRbin RBIbin BBbin SObin\n",
       "0  abreubo01    2011      LAA     AL  9000000      1      LAA     AL  142  502.0  54.0  127.0  30.0  1.0   8.0   60.0  21.0  5.0  78.0  113.0   5.0   1.0  1.0  3.0   8.0  0.252988   3rd   4th    2nd   1st   2nd\n",
       "1  abreujo02    2015      CHA     AL  8666000      1      CHA     AL  154  613.0  88.0  178.0  34.0  3.0  30.0  101.0   0.0  0.0  39.0  140.0  11.0  15.0  0.0  1.0  16.0  0.290375   1st   1st    1st   3rd   1st\n",
       "2  ackledu01    2013      SEA     AL  2700000      1      SEA     AL  113  384.0  40.0   97.0  18.0  2.0   4.0   31.0   2.0  3.0  37.0   72.0   1.0   1.0  4.0  1.0   6.0  0.252604   3rd   5th    4th   3rd   4th\n",
       "3  adamsma01    2014      SLN     NL   516000      1      SLN     NL  142  527.0  55.0  152.0  34.0  5.0  15.0   68.0   3.0  2.0  26.0  114.0   5.0   3.0  0.0  7.0   9.0  0.288425   1st   2nd    2nd   4th   1st\n",
       "4  ahmedni01    2015      ARI     NL   508500      1      ARI     NL  134  421.0  49.0   95.0  17.0  6.0   9.0   34.0   4.0  5.0  29.0   81.0   1.0   1.0  5.0  3.0   4.0  0.225653   5th   4th    4th   4th   3rd"
      ]
     },
     "execution_count": 218,
     "metadata": {},
     "output_type": "execute_result"
    }
   ],
   "source": [
    "#function to find maximum value of a certain player \n",
    "def max_values(value):\n",
    "    zz=batting_n_salaries_last5yrs\n",
    "    return zz.sort_values(by= value, ascending=False).groupby('playerID', as_index=False).first()\n",
    "\n",
    "#Test function\n",
    "sorted_batting_salary_max = max_values('salary')\n",
    "sorted_batting_salary_max.head()"
   ]
  },
  {
   "cell_type": "markdown",
   "metadata": {},
   "source": [
    "Find each player's max values"
   ]
  },
  {
   "cell_type": "code",
   "execution_count": 219,
   "metadata": {
    "collapsed": false
   },
   "outputs": [
    {
     "name": "stdout",
     "output_type": "stream",
     "text": [
      "Pearson's R values (max method)\n",
      "max salary and BA: 0.473150726826\n",
      "max salary and HR: 0.568196862407\n",
      "max salary and RBI: 0.643511772107\n",
      "max salary and BB: 0.582868632306\n",
      "max salary and SO: 0.332729224643\n"
     ]
    }
   ],
   "source": [
    "sorted_batting_BA_max = max_values('BA')\n",
    "sorted_batting_HR_max = max_values('HR')\n",
    "sorted_batting_RBI_max = max_values('RBI')\n",
    "sorted_batting_SO_max = max_values('SO')\n",
    "sorted_batting_BB_max = max_values('BB')\n",
    "\n",
    "max_player_salary = sorted_batting_salary_max['salary']\n",
    "max_player_BA = sorted_batting_BA_max['BA']\n",
    "max_player_HR = sorted_batting_HR_max['HR']\n",
    "max_player_RBI = sorted_batting_RBI_max['RBI']\n",
    "max_player_SO = sorted_batting_SO_max['SO']\n",
    "max_player_BB = sorted_batting_BB_max['BB']\n",
    "\n",
    "Rvalue_max_salary_and_BA = correlation(max_player_salary, max_player_BA)\n",
    "Rvalue_max_salary_and_HR = correlation(max_player_salary, max_player_HR)\n",
    "Rvalue_max_salary_and_RBI = correlation(max_player_salary, max_player_RBI)\n",
    "Rvalue_max_salary_and_BB = correlation(max_player_salary, max_player_BB)\n",
    "Rvalue_max_salary_and_SO = correlation(max_player_salary, max_player_SO)\n",
    "\n",
    "print \"Pearson's R values (max method)\"\n",
    "print 'max salary and BA:', Rvalue_max_salary_and_BA \n",
    "print 'max salary and HR:', Rvalue_max_salary_and_HR \n",
    "print 'max salary and RBI:', Rvalue_max_salary_and_RBI \n",
    "print 'max salary and BB:', Rvalue_max_salary_and_BB \n",
    "print 'max salary and SO:', Rvalue_max_salary_and_SO\n"
   ]
  },
  {
   "cell_type": "code",
   "execution_count": 220,
   "metadata": {
    "collapsed": false
   },
   "outputs": [
    {
     "name": "stdout",
     "output_type": "stream",
     "text": [
      "573\n"
     ]
    }
   ],
   "source": [
    "print len(sorted_batting_salary_max['playerID'])"
   ]
  },
  {
   "cell_type": "code",
   "execution_count": 221,
   "metadata": {
    "collapsed": false
   },
   "outputs": [],
   "source": [
    "#function for obtaining t value for Pearson's R values\n",
    "def correlation_max_sig_test(r):\n",
    "    sqrtA = math.sqrt(571)\n",
    "    sqrtB = math.sqrt(1-(r**2))\n",
    "    return (r * sqrtA)/sqrtB"
   ]
  },
  {
   "cell_type": "markdown",
   "metadata": {},
   "source": [
    "###<font color='red'>Calculate t values for max salary/batting stats R values\n",
    ">###<font color='red'>Null hypothesis is existence of correlation (rho): rho = 0\n",
    ">###<font color='red'>Alternate hypothesis: rho ≠ 0"
   ]
  },
  {
   "cell_type": "code",
   "execution_count": 222,
   "metadata": {
    "collapsed": false
   },
   "outputs": [
    {
     "name": "stdout",
     "output_type": "stream",
     "text": [
      "t value for Rvalue_max_salary_and_BA =  12.8336674309\n",
      "t value for Rvalue_max_ssalary_and_HR =  16.4996107307\n",
      "t value for Rvalue_max_ssalary_and_RBI =  20.0893342245\n",
      "t value for Rvalue_max_ssalary_and_BB =  17.1407522197\n",
      "t value for Rvalue_max_ssalary_and_SO =  8.43115336518\n"
     ]
    }
   ],
   "source": [
    "print \"t value for Rvalue_max_salary_and_BA = \", correlation_max_sig_test(Rvalue_max_salary_and_BA)\n",
    "print \"t value for Rvalue_max_ssalary_and_HR = \", correlation_max_sig_test(Rvalue_max_salary_and_HR)\n",
    "print \"t value for Rvalue_max_ssalary_and_RBI = \", correlation_max_sig_test(Rvalue_max_salary_and_RBI)\n",
    "print \"t value for Rvalue_max_ssalary_and_BB = \", correlation_max_sig_test(Rvalue_max_salary_and_BB)\n",
    "print \"t value for Rvalue_max_ssalary_and_SO = \", correlation_max_sig_test(Rvalue_max_salary_and_SO)"
   ]
  },
  {
   "cell_type": "markdown",
   "metadata": {},
   "source": [
    "###<font color='red'>Results of t test for max salary/batting stats R values: \n",
    ">###<font color='red'>Null hypothesis is rejected for all R values above since t critical value for 571 degree of freedom \n",
    ">###<font color='red'>for .025 p value(two-tailed test) is between 1.962 and 1.984\n",
    ">###<font color='red'>Thus, all correlations above are significant"
   ]
  },
  {
   "cell_type": "markdown",
   "metadata": {},
   "source": [
    "##Conclusion 3:\n",
    ">###Consistent with the previous Pearson's R test for avg. batting stats and max salary (Pearson's R values rank: RBI > HR > BB > BA > SO), this Pearson's R test for max batting stats and max salary also returns similar rankings in Pearson's R values: RBI > BB > HR > BA > SO, with RBI and HR switching places.  <font color='red'> Using t test, all the correlations are found to be significant (p = 0.05).\n"
   ]
  },
  {
   "cell_type": "markdown",
   "metadata": {},
   "source": [
    "##Scatter plots for max values"
   ]
  },
  {
   "cell_type": "code",
   "execution_count": 223,
   "metadata": {
    "collapsed": false
   },
   "outputs": [
    {
     "data": {
      "text/plain": [
       "<matplotlib.text.Text at 0x12e425f10>"
      ]
     },
     "execution_count": 223,
     "metadata": {},
     "output_type": "execute_result"
    },
    {
     "data": {
      "image/png": "[encoded data removed]",
      "text/plain": [
       "<matplotlib.figure.Figure at 0x12e411d90>"
      ]
     },
     "metadata": {},
     "output_type": "display_data"
    }
   ],
   "source": [
    "axsmaxBA = sorted_batting_BA_max.plot(x='BA', y='salary', style='o')\n",
    "\n",
    "axsmaxBA.set_ylim(000000,30000000)\n",
    "axsmaxBA.set_xlim(0.05,0.45)\n",
    "axsmaxBA.set_ylabel(\"salary\")\n",
    "axsmaxBA.set_title('maxBA vs salary')"
   ]
  },
  {
   "cell_type": "code",
   "execution_count": 224,
   "metadata": {
    "collapsed": false
   },
   "outputs": [
    {
     "data": {
      "text/plain": [
       "<matplotlib.text.Text at 0x12e688990>"
      ]
     },
     "execution_count": 224,
     "metadata": {},
     "output_type": "execute_result"
    },
    {
     "data": {
      "image/png": "[encoded data removed]",
      "text/plain": [
       "<matplotlib.figure.Figure at 0x12a4e4e50>"
      ]
     },
     "metadata": {},
     "output_type": "display_data"
    }
   ],
   "source": [
    "axsmaxHR = sorted_batting_HR_max.plot(x='HR', y='salary', style='o')\n",
    "\n",
    "axsmaxHR.set_ylim(000000,30000000)\n",
    "axsmaxHR.set_xlim(0,80)\n",
    "axsmaxHR.set_ylabel(\"salary\")\n",
    "axsmaxHR.set_title('maxHR vs salary')"
   ]
  },
  {
   "cell_type": "code",
   "execution_count": 225,
   "metadata": {
    "collapsed": false
   },
   "outputs": [
    {
     "data": {
      "text/plain": [
       "<matplotlib.text.Text at 0x12e7afe50>"
      ]
     },
     "execution_count": 225,
     "metadata": {},
     "output_type": "execute_result"
    },
    {
     "data": {
      "image/png": "[encoded data removed]",
      "text/plain": [
       "<matplotlib.figure.Figure at 0x12a4e4fd0>"
      ]
     },
     "metadata": {},
     "output_type": "display_data"
    }
   ],
   "source": [
    "axsmaxRBI = sorted_batting_RBI_max.plot(x='RBI', y='salary', style='o')\n",
    "\n",
    "axsmaxRBI.set_ylim(100000,30000000)\n",
    "axsmaxRBI.set_xlim(0,200)\n",
    "axsmaxRBI.set_ylabel(\"salary\")\n",
    "axsmaxRBI.set_title('maxRBI vs salary')"
   ]
  },
  {
   "cell_type": "code",
   "execution_count": 226,
   "metadata": {
    "collapsed": false
   },
   "outputs": [
    {
     "data": {
      "text/plain": [
       "<matplotlib.text.Text at 0x12e8a3190>"
      ]
     },
     "execution_count": 226,
     "metadata": {},
     "output_type": "execute_result"
    },
    {
     "data": {
      "image/png": "[encoded data removed]",
      "text/plain": [
       "<matplotlib.figure.Figure at 0x12e863090>"
      ]
     },
     "metadata": {},
     "output_type": "display_data"
    }
   ],
   "source": [
    "axsmaxBB = sorted_batting_BB_max.plot(x='BB', y='salary', style='o')\n",
    "\n",
    "axsmaxBB.set_ylim(100000,30000000)\n",
    "axsmaxBB.set_xlim(0,200)\n",
    "axsmaxBB.set_ylabel(\"salary\")\n",
    "axsmaxBB.set_title('maxBB vs salary')"
   ]
  },
  {
   "cell_type": "code",
   "execution_count": 227,
   "metadata": {
    "collapsed": false
   },
   "outputs": [
    {
     "data": {
      "text/plain": [
       "<matplotlib.text.Text at 0x12eace1d0>"
      ]
     },
     "execution_count": 227,
     "metadata": {},
     "output_type": "execute_result"
    },
    {
     "data": {
      "image/png": "[encoded data removed]",
      "text/plain": [
       "<matplotlib.figure.Figure at 0x12e8abe90>"
      ]
     },
     "metadata": {},
     "output_type": "display_data"
    }
   ],
   "source": [
    "axsmaxSO = sorted_batting_SO_max.plot(x='SO', y='salary', style='o')\n",
    "\n",
    "axsmaxSO.set_ylim(100000,30000000)\n",
    "axsmaxSO.set_xlim(0,250)\n",
    "axsmaxSO.set_ylabel(\"salary\")\n",
    "axsmaxSO.set_title('maxSO vs salary')"
   ]
  },
  {
   "cell_type": "markdown",
   "metadata": {},
   "source": [
    "##<font color='red'>As above, binning of batting stats is used to resolve the scatter plot (below)."
   ]
  },
  {
   "cell_type": "markdown",
   "metadata": {},
   "source": [
    "# Create dataframe with player-specific, matching max batting stats and max salary, for plotting binned values."
   ]
  },
  {
   "cell_type": "code",
   "execution_count": 228,
   "metadata": {
    "collapsed": false
   },
   "outputs": [
    {
     "data": {
      "text/html": [
       "<div>\n",
       "<table border=\"1\" class=\"dataframe\">\n",
       "  <thead>\n",
       "    <tr style=\"text-align: right;\">\n",
       "      <th></th>\n",
       "      <th>playerID</th>\n",
       "      <th>yearID</th>\n",
       "      <th>teamID_x</th>\n",
       "      <th>lgID_x</th>\n",
       "      <th>stint</th>\n",
       "      <th>teamID_y</th>\n",
       "      <th>lgID_y</th>\n",
       "      <th>G</th>\n",
       "      <th>AB</th>\n",
       "      <th>R</th>\n",
       "      <th>H</th>\n",
       "      <th>2B</th>\n",
       "      <th>3B</th>\n",
       "      <th>HR</th>\n",
       "      <th>RBI</th>\n",
       "      <th>SB</th>\n",
       "      <th>CS</th>\n",
       "      <th>BB</th>\n",
       "      <th>SO</th>\n",
       "      <th>IBB</th>\n",
       "      <th>HBP</th>\n",
       "      <th>SH</th>\n",
       "      <th>SF</th>\n",
       "      <th>GIDP</th>\n",
       "      <th>BA</th>\n",
       "      <th>BAbin</th>\n",
       "      <th>HRbin</th>\n",
       "      <th>RBIbin</th>\n",
       "      <th>BBbin</th>\n",
       "      <th>SObin</th>\n",
       "      <th>maxsalary</th>\n",
       "    </tr>\n",
       "  </thead>\n",
       "  <tbody>\n",
       "    <tr>\n",
       "      <th>0</th>\n",
       "      <td>abreubo01</td>\n",
       "      <td>2011</td>\n",
       "      <td>LAA</td>\n",
       "      <td>AL</td>\n",
       "      <td>1</td>\n",
       "      <td>LAA</td>\n",
       "      <td>AL</td>\n",
       "      <td>142</td>\n",
       "      <td>502.0</td>\n",
       "      <td>54.0</td>\n",
       "      <td>127.0</td>\n",
       "      <td>30.0</td>\n",
       "      <td>1.0</td>\n",
       "      <td>8.0</td>\n",
       "      <td>60.0</td>\n",
       "      <td>21.0</td>\n",
       "      <td>5.0</td>\n",
       "      <td>78.0</td>\n",
       "      <td>113.0</td>\n",
       "      <td>5.0</td>\n",
       "      <td>1.0</td>\n",
       "      <td>1.0</td>\n",
       "      <td>3.0</td>\n",
       "      <td>8.0</td>\n",
       "      <td>0.252988</td>\n",
       "      <td>3rd</td>\n",
       "      <td>4th</td>\n",
       "      <td>2nd</td>\n",
       "      <td>1st</td>\n",
       "      <td>2nd</td>\n",
       "      <td>9000000</td>\n",
       "    </tr>\n",
       "    <tr>\n",
       "      <th>1</th>\n",
       "      <td>abreujo02</td>\n",
       "      <td>2015</td>\n",
       "      <td>CHA</td>\n",
       "      <td>AL</td>\n",
       "      <td>1</td>\n",
       "      <td>CHA</td>\n",
       "      <td>AL</td>\n",
       "      <td>154</td>\n",
       "      <td>613.0</td>\n",
       "      <td>88.0</td>\n",
       "      <td>178.0</td>\n",
       "      <td>34.0</td>\n",
       "      <td>3.0</td>\n",
       "      <td>30.0</td>\n",
       "      <td>101.0</td>\n",
       "      <td>0.0</td>\n",
       "      <td>0.0</td>\n",
       "      <td>39.0</td>\n",
       "      <td>140.0</td>\n",
       "      <td>11.0</td>\n",
       "      <td>15.0</td>\n",
       "      <td>0.0</td>\n",
       "      <td>1.0</td>\n",
       "      <td>16.0</td>\n",
       "      <td>0.290375</td>\n",
       "      <td>1st</td>\n",
       "      <td>1st</td>\n",
       "      <td>1st</td>\n",
       "      <td>3rd</td>\n",
       "      <td>1st</td>\n",
       "      <td>8666000</td>\n",
       "    </tr>\n",
       "    <tr>\n",
       "      <th>2</th>\n",
       "      <td>ackledu01</td>\n",
       "      <td>2013</td>\n",
       "      <td>SEA</td>\n",
       "      <td>AL</td>\n",
       "      <td>1</td>\n",
       "      <td>SEA</td>\n",
       "      <td>AL</td>\n",
       "      <td>113</td>\n",
       "      <td>384.0</td>\n",
       "      <td>40.0</td>\n",
       "      <td>97.0</td>\n",
       "      <td>18.0</td>\n",
       "      <td>2.0</td>\n",
       "      <td>4.0</td>\n",
       "      <td>31.0</td>\n",
       "      <td>2.0</td>\n",
       "      <td>3.0</td>\n",
       "      <td>37.0</td>\n",
       "      <td>72.0</td>\n",
       "      <td>1.0</td>\n",
       "      <td>1.0</td>\n",
       "      <td>4.0</td>\n",
       "      <td>1.0</td>\n",
       "      <td>6.0</td>\n",
       "      <td>0.252604</td>\n",
       "      <td>3rd</td>\n",
       "      <td>5th</td>\n",
       "      <td>4th</td>\n",
       "      <td>3rd</td>\n",
       "      <td>4th</td>\n",
       "      <td>2700000</td>\n",
       "    </tr>\n",
       "    <tr>\n",
       "      <th>3</th>\n",
       "      <td>adamsma01</td>\n",
       "      <td>2014</td>\n",
       "      <td>SLN</td>\n",
       "      <td>NL</td>\n",
       "      <td>1</td>\n",
       "      <td>SLN</td>\n",
       "      <td>NL</td>\n",
       "      <td>142</td>\n",
       "      <td>527.0</td>\n",
       "      <td>55.0</td>\n",
       "      <td>152.0</td>\n",
       "      <td>34.0</td>\n",
       "      <td>5.0</td>\n",
       "      <td>15.0</td>\n",
       "      <td>68.0</td>\n",
       "      <td>3.0</td>\n",
       "      <td>2.0</td>\n",
       "      <td>26.0</td>\n",
       "      <td>114.0</td>\n",
       "      <td>5.0</td>\n",
       "      <td>3.0</td>\n",
       "      <td>0.0</td>\n",
       "      <td>7.0</td>\n",
       "      <td>9.0</td>\n",
       "      <td>0.288425</td>\n",
       "      <td>1st</td>\n",
       "      <td>2nd</td>\n",
       "      <td>2nd</td>\n",
       "      <td>4th</td>\n",
       "      <td>1st</td>\n",
       "      <td>516000</td>\n",
       "    </tr>\n",
       "    <tr>\n",
       "      <th>4</th>\n",
       "      <td>ahmedni01</td>\n",
       "      <td>2015</td>\n",
       "      <td>ARI</td>\n",
       "      <td>NL</td>\n",
       "      <td>1</td>\n",
       "      <td>ARI</td>\n",
       "      <td>NL</td>\n",
       "      <td>134</td>\n",
       "      <td>421.0</td>\n",
       "      <td>49.0</td>\n",
       "      <td>95.0</td>\n",
       "      <td>17.0</td>\n",
       "      <td>6.0</td>\n",
       "      <td>9.0</td>\n",
       "      <td>34.0</td>\n",
       "      <td>4.0</td>\n",
       "      <td>5.0</td>\n",
       "      <td>29.0</td>\n",
       "      <td>81.0</td>\n",
       "      <td>1.0</td>\n",
       "      <td>1.0</td>\n",
       "      <td>5.0</td>\n",
       "      <td>3.0</td>\n",
       "      <td>4.0</td>\n",
       "      <td>0.225653</td>\n",
       "      <td>5th</td>\n",
       "      <td>4th</td>\n",
       "      <td>4th</td>\n",
       "      <td>4th</td>\n",
       "      <td>3rd</td>\n",
       "      <td>508500</td>\n",
       "    </tr>\n",
       "  </tbody>\n",
       "</table>\n",
       "</div>"
      ],
      "text/plain": [
       "    playerID  yearID teamID_x lgID_x  stint teamID_y lgID_y    G     AB     R      H    2B   3B    HR    RBI    SB   CS    BB     SO   IBB   HBP   SH   SF  GIDP        BA BAbin HRbin RBIbin BBbin SObin  maxsalary\n",
       "0  abreubo01    2011      LAA     AL      1      LAA     AL  142  502.0  54.0  127.0  30.0  1.0   8.0   60.0  21.0  5.0  78.0  113.0   5.0   1.0  1.0  3.0   8.0  0.252988   3rd   4th    2nd   1st   2nd    9000000\n",
       "1  abreujo02    2015      CHA     AL      1      CHA     AL  154  613.0  88.0  178.0  34.0  3.0  30.0  101.0   0.0  0.0  39.0  140.0  11.0  15.0  0.0  1.0  16.0  0.290375   1st   1st    1st   3rd   1st    8666000\n",
       "2  ackledu01    2013      SEA     AL      1      SEA     AL  113  384.0  40.0   97.0  18.0  2.0   4.0   31.0   2.0  3.0  37.0   72.0   1.0   1.0  4.0  1.0   6.0  0.252604   3rd   5th    4th   3rd   4th    2700000\n",
       "3  adamsma01    2014      SLN     NL      1      SLN     NL  142  527.0  55.0  152.0  34.0  5.0  15.0   68.0   3.0  2.0  26.0  114.0   5.0   3.0  0.0  7.0   9.0  0.288425   1st   2nd    2nd   4th   1st     516000\n",
       "4  ahmedni01    2015      ARI     NL      1      ARI     NL  134  421.0  49.0   95.0  17.0  6.0   9.0   34.0   4.0  5.0  29.0   81.0   1.0   1.0  5.0  3.0   4.0  0.225653   5th   4th    4th   4th   3rd     508500"
      ]
     },
     "execution_count": 228,
     "metadata": {},
     "output_type": "execute_result"
    }
   ],
   "source": [
    "#For some reason I need to put the already existing variable assignment below, or the code doesn't work.\n",
    "sorted_batting_salary_max = max_values('salary')\n",
    "sorted_batting_BA_max = max_values('BA')\n",
    "sorted_batting_HR_max = max_values('HR')\n",
    "sorted_batting_RBI_max = max_values('RBI')\n",
    "sorted_batting_SO_max = max_values('SO')\n",
    "sorted_batting_BB_max = max_values('BB')\n",
    "\n",
    "#function for replacing max values\n",
    "def replace_max (df, old, new):\n",
    "    df[old] = df[new]\n",
    "    del df[new]\n",
    "    del df['salary']\n",
    "    return df\n",
    "\n",
    "def replace_maxsalary (df, old, new):\n",
    "    df[old] = df[new]\n",
    "    del df[new]\n",
    "    return df\n",
    "\n",
    "replace_maxsalary (sorted_batting_salary_max, 'maxsalary', 'salary')\n",
    "replace_max (sorted_batting_BA_max, 'maxBA', 'BA')\n",
    "replace_max (sorted_batting_HR_max, 'maxHR', 'HR')\n",
    "replace_max (sorted_batting_RBI_max, 'maxRBI', 'RBI')\n",
    "replace_max (sorted_batting_SO_max, 'maxSO', 'SO')\n",
    "replace_max (sorted_batting_BB_max, 'maxBB', 'BB')\n",
    "sorted_batting_salary_max.head()"
   ]
  },
  {
   "cell_type": "markdown",
   "metadata": {},
   "source": [
    "Merge max salary and max batting stats"
   ]
  },
  {
   "cell_type": "code",
   "execution_count": 229,
   "metadata": {
    "collapsed": false
   },
   "outputs": [
    {
     "data": {
      "text/html": [
       "<div>\n",
       "<table border=\"1\" class=\"dataframe\">\n",
       "  <thead>\n",
       "    <tr style=\"text-align: right;\">\n",
       "      <th></th>\n",
       "      <th>playerID</th>\n",
       "      <th>yearID_x</th>\n",
       "      <th>teamID_x_x</th>\n",
       "      <th>lgID_x_x</th>\n",
       "      <th>stint_x</th>\n",
       "      <th>teamID_y_x</th>\n",
       "      <th>lgID_y_x</th>\n",
       "      <th>G_x</th>\n",
       "      <th>AB_x</th>\n",
       "      <th>R_x</th>\n",
       "      <th>H_x</th>\n",
       "      <th>2B_x</th>\n",
       "      <th>3B_x</th>\n",
       "      <th>HR</th>\n",
       "      <th>RBI_x</th>\n",
       "      <th>SB_x</th>\n",
       "      <th>CS_x</th>\n",
       "      <th>BB_x</th>\n",
       "      <th>SO_x</th>\n",
       "      <th>IBB_x</th>\n",
       "      <th>HBP_x</th>\n",
       "      <th>SH_x</th>\n",
       "      <th>SF_x</th>\n",
       "      <th>GIDP_x</th>\n",
       "      <th>BA_x</th>\n",
       "      <th>BAbin_x</th>\n",
       "      <th>HRbin_x</th>\n",
       "      <th>RBIbin_x</th>\n",
       "      <th>BBbin_x</th>\n",
       "      <th>SObin_x</th>\n",
       "      <th>maxsalary</th>\n",
       "      <th>yearID_y</th>\n",
       "      <th>teamID_x_y</th>\n",
       "      <th>lgID_x_y</th>\n",
       "      <th>stint_y</th>\n",
       "      <th>teamID_y_y</th>\n",
       "      <th>lgID_y_y</th>\n",
       "      <th>G_y</th>\n",
       "      <th>AB_y</th>\n",
       "      <th>R_y</th>\n",
       "      <th>H_y</th>\n",
       "      <th>2B_y</th>\n",
       "      <th>3B_y</th>\n",
       "      <th>RBI_y</th>\n",
       "      <th>SB_y</th>\n",
       "      <th>CS_y</th>\n",
       "      <th>BB_y</th>\n",
       "      <th>SO_y</th>\n",
       "      <th>IBB_y</th>\n",
       "      <th>HBP_y</th>\n",
       "      <th>SH_y</th>\n",
       "      <th>SF_y</th>\n",
       "      <th>GIDP_y</th>\n",
       "      <th>BA_y</th>\n",
       "      <th>BAbin_y</th>\n",
       "      <th>HRbin_y</th>\n",
       "      <th>RBIbin_y</th>\n",
       "      <th>BBbin_y</th>\n",
       "      <th>SObin_y</th>\n",
       "      <th>maxHR</th>\n",
       "    </tr>\n",
       "  </thead>\n",
       "  <tbody>\n",
       "    <tr>\n",
       "      <th>0</th>\n",
       "      <td>abreubo01</td>\n",
       "      <td>2011</td>\n",
       "      <td>LAA</td>\n",
       "      <td>AL</td>\n",
       "      <td>1</td>\n",
       "      <td>LAA</td>\n",
       "      <td>AL</td>\n",
       "      <td>142</td>\n",
       "      <td>502.0</td>\n",
       "      <td>54.0</td>\n",
       "      <td>127.0</td>\n",
       "      <td>30.0</td>\n",
       "      <td>1.0</td>\n",
       "      <td>8.0</td>\n",
       "      <td>60.0</td>\n",
       "      <td>21.0</td>\n",
       "      <td>5.0</td>\n",
       "      <td>78.0</td>\n",
       "      <td>113.0</td>\n",
       "      <td>5.0</td>\n",
       "      <td>1.0</td>\n",
       "      <td>1.0</td>\n",
       "      <td>3.0</td>\n",
       "      <td>8.0</td>\n",
       "      <td>0.252988</td>\n",
       "      <td>3rd</td>\n",
       "      <td>4th</td>\n",
       "      <td>2nd</td>\n",
       "      <td>1st</td>\n",
       "      <td>2nd</td>\n",
       "      <td>9000000</td>\n",
       "      <td>2010</td>\n",
       "      <td>LAA</td>\n",
       "      <td>AL</td>\n",
       "      <td>1</td>\n",
       "      <td>LAA</td>\n",
       "      <td>AL</td>\n",
       "      <td>154</td>\n",
       "      <td>573.0</td>\n",
       "      <td>88.0</td>\n",
       "      <td>146.0</td>\n",
       "      <td>41.0</td>\n",
       "      <td>1.0</td>\n",
       "      <td>78.0</td>\n",
       "      <td>24.0</td>\n",
       "      <td>10.0</td>\n",
       "      <td>87.0</td>\n",
       "      <td>132.0</td>\n",
       "      <td>3.0</td>\n",
       "      <td>2.0</td>\n",
       "      <td>0.0</td>\n",
       "      <td>5.0</td>\n",
       "      <td>13.0</td>\n",
       "      <td>0.254799</td>\n",
       "      <td>3rd</td>\n",
       "      <td>2nd</td>\n",
       "      <td>1st</td>\n",
       "      <td>1st</td>\n",
       "      <td>1st</td>\n",
       "      <td>20.0</td>\n",
       "    </tr>\n",
       "    <tr>\n",
       "      <th>1</th>\n",
       "      <td>abreujo02</td>\n",
       "      <td>2015</td>\n",
       "      <td>CHA</td>\n",
       "      <td>AL</td>\n",
       "      <td>1</td>\n",
       "      <td>CHA</td>\n",
       "      <td>AL</td>\n",
       "      <td>154</td>\n",
       "      <td>613.0</td>\n",
       "      <td>88.0</td>\n",
       "      <td>178.0</td>\n",
       "      <td>34.0</td>\n",
       "      <td>3.0</td>\n",
       "      <td>30.0</td>\n",
       "      <td>101.0</td>\n",
       "      <td>0.0</td>\n",
       "      <td>0.0</td>\n",
       "      <td>39.0</td>\n",
       "      <td>140.0</td>\n",
       "      <td>11.0</td>\n",
       "      <td>15.0</td>\n",
       "      <td>0.0</td>\n",
       "      <td>1.0</td>\n",
       "      <td>16.0</td>\n",
       "      <td>0.290375</td>\n",
       "      <td>1st</td>\n",
       "      <td>1st</td>\n",
       "      <td>1st</td>\n",
       "      <td>3rd</td>\n",
       "      <td>1st</td>\n",
       "      <td>8666000</td>\n",
       "      <td>2014</td>\n",
       "      <td>CHA</td>\n",
       "      <td>AL</td>\n",
       "      <td>1</td>\n",
       "      <td>CHA</td>\n",
       "      <td>AL</td>\n",
       "      <td>145</td>\n",
       "      <td>556.0</td>\n",
       "      <td>80.0</td>\n",
       "      <td>176.0</td>\n",
       "      <td>35.0</td>\n",
       "      <td>2.0</td>\n",
       "      <td>107.0</td>\n",
       "      <td>3.0</td>\n",
       "      <td>1.0</td>\n",
       "      <td>51.0</td>\n",
       "      <td>131.0</td>\n",
       "      <td>15.0</td>\n",
       "      <td>11.0</td>\n",
       "      <td>0.0</td>\n",
       "      <td>4.0</td>\n",
       "      <td>14.0</td>\n",
       "      <td>0.316547</td>\n",
       "      <td>1st</td>\n",
       "      <td>1st</td>\n",
       "      <td>1st</td>\n",
       "      <td>2nd</td>\n",
       "      <td>1st</td>\n",
       "      <td>36.0</td>\n",
       "    </tr>\n",
       "    <tr>\n",
       "      <th>2</th>\n",
       "      <td>ackledu01</td>\n",
       "      <td>2013</td>\n",
       "      <td>SEA</td>\n",
       "      <td>AL</td>\n",
       "      <td>1</td>\n",
       "      <td>SEA</td>\n",
       "      <td>AL</td>\n",
       "      <td>113</td>\n",
       "      <td>384.0</td>\n",
       "      <td>40.0</td>\n",
       "      <td>97.0</td>\n",
       "      <td>18.0</td>\n",
       "      <td>2.0</td>\n",
       "      <td>4.0</td>\n",
       "      <td>31.0</td>\n",
       "      <td>2.0</td>\n",
       "      <td>3.0</td>\n",
       "      <td>37.0</td>\n",
       "      <td>72.0</td>\n",
       "      <td>1.0</td>\n",
       "      <td>1.0</td>\n",
       "      <td>4.0</td>\n",
       "      <td>1.0</td>\n",
       "      <td>6.0</td>\n",
       "      <td>0.252604</td>\n",
       "      <td>3rd</td>\n",
       "      <td>5th</td>\n",
       "      <td>4th</td>\n",
       "      <td>3rd</td>\n",
       "      <td>4th</td>\n",
       "      <td>2700000</td>\n",
       "      <td>2014</td>\n",
       "      <td>SEA</td>\n",
       "      <td>AL</td>\n",
       "      <td>1</td>\n",
       "      <td>SEA</td>\n",
       "      <td>AL</td>\n",
       "      <td>143</td>\n",
       "      <td>502.0</td>\n",
       "      <td>64.0</td>\n",
       "      <td>123.0</td>\n",
       "      <td>27.0</td>\n",
       "      <td>4.0</td>\n",
       "      <td>65.0</td>\n",
       "      <td>8.0</td>\n",
       "      <td>4.0</td>\n",
       "      <td>32.0</td>\n",
       "      <td>90.0</td>\n",
       "      <td>1.0</td>\n",
       "      <td>3.0</td>\n",
       "      <td>3.0</td>\n",
       "      <td>2.0</td>\n",
       "      <td>10.0</td>\n",
       "      <td>0.245020</td>\n",
       "      <td>4th</td>\n",
       "      <td>2nd</td>\n",
       "      <td>2nd</td>\n",
       "      <td>3rd</td>\n",
       "      <td>3rd</td>\n",
       "      <td>14.0</td>\n",
       "    </tr>\n",
       "    <tr>\n",
       "      <th>3</th>\n",
       "      <td>adamsma01</td>\n",
       "      <td>2014</td>\n",
       "      <td>SLN</td>\n",
       "      <td>NL</td>\n",
       "      <td>1</td>\n",
       "      <td>SLN</td>\n",
       "      <td>NL</td>\n",
       "      <td>142</td>\n",
       "      <td>527.0</td>\n",
       "      <td>55.0</td>\n",
       "      <td>152.0</td>\n",
       "      <td>34.0</td>\n",
       "      <td>5.0</td>\n",
       "      <td>15.0</td>\n",
       "      <td>68.0</td>\n",
       "      <td>3.0</td>\n",
       "      <td>2.0</td>\n",
       "      <td>26.0</td>\n",
       "      <td>114.0</td>\n",
       "      <td>5.0</td>\n",
       "      <td>3.0</td>\n",
       "      <td>0.0</td>\n",
       "      <td>7.0</td>\n",
       "      <td>9.0</td>\n",
       "      <td>0.288425</td>\n",
       "      <td>1st</td>\n",
       "      <td>2nd</td>\n",
       "      <td>2nd</td>\n",
       "      <td>4th</td>\n",
       "      <td>1st</td>\n",
       "      <td>516000</td>\n",
       "      <td>2013</td>\n",
       "      <td>SLN</td>\n",
       "      <td>NL</td>\n",
       "      <td>1</td>\n",
       "      <td>SLN</td>\n",
       "      <td>NL</td>\n",
       "      <td>108</td>\n",
       "      <td>296.0</td>\n",
       "      <td>46.0</td>\n",
       "      <td>84.0</td>\n",
       "      <td>14.0</td>\n",
       "      <td>0.0</td>\n",
       "      <td>51.0</td>\n",
       "      <td>0.0</td>\n",
       "      <td>1.0</td>\n",
       "      <td>23.0</td>\n",
       "      <td>80.0</td>\n",
       "      <td>0.0</td>\n",
       "      <td>0.0</td>\n",
       "      <td>0.0</td>\n",
       "      <td>0.0</td>\n",
       "      <td>9.0</td>\n",
       "      <td>0.283784</td>\n",
       "      <td>2nd</td>\n",
       "      <td>2nd</td>\n",
       "      <td>3rd</td>\n",
       "      <td>4th</td>\n",
       "      <td>3rd</td>\n",
       "      <td>17.0</td>\n",
       "    </tr>\n",
       "    <tr>\n",
       "      <th>4</th>\n",
       "      <td>ahmedni01</td>\n",
       "      <td>2015</td>\n",
       "      <td>ARI</td>\n",
       "      <td>NL</td>\n",
       "      <td>1</td>\n",
       "      <td>ARI</td>\n",
       "      <td>NL</td>\n",
       "      <td>134</td>\n",
       "      <td>421.0</td>\n",
       "      <td>49.0</td>\n",
       "      <td>95.0</td>\n",
       "      <td>17.0</td>\n",
       "      <td>6.0</td>\n",
       "      <td>9.0</td>\n",
       "      <td>34.0</td>\n",
       "      <td>4.0</td>\n",
       "      <td>5.0</td>\n",
       "      <td>29.0</td>\n",
       "      <td>81.0</td>\n",
       "      <td>1.0</td>\n",
       "      <td>1.0</td>\n",
       "      <td>5.0</td>\n",
       "      <td>3.0</td>\n",
       "      <td>4.0</td>\n",
       "      <td>0.225653</td>\n",
       "      <td>5th</td>\n",
       "      <td>4th</td>\n",
       "      <td>4th</td>\n",
       "      <td>4th</td>\n",
       "      <td>3rd</td>\n",
       "      <td>508500</td>\n",
       "      <td>2015</td>\n",
       "      <td>ARI</td>\n",
       "      <td>NL</td>\n",
       "      <td>1</td>\n",
       "      <td>ARI</td>\n",
       "      <td>NL</td>\n",
       "      <td>134</td>\n",
       "      <td>421.0</td>\n",
       "      <td>49.0</td>\n",
       "      <td>95.0</td>\n",
       "      <td>17.0</td>\n",
       "      <td>6.0</td>\n",
       "      <td>34.0</td>\n",
       "      <td>4.0</td>\n",
       "      <td>5.0</td>\n",
       "      <td>29.0</td>\n",
       "      <td>81.0</td>\n",
       "      <td>1.0</td>\n",
       "      <td>1.0</td>\n",
       "      <td>5.0</td>\n",
       "      <td>3.0</td>\n",
       "      <td>4.0</td>\n",
       "      <td>0.225653</td>\n",
       "      <td>5th</td>\n",
       "      <td>4th</td>\n",
       "      <td>4th</td>\n",
       "      <td>4th</td>\n",
       "      <td>3rd</td>\n",
       "      <td>9.0</td>\n",
       "    </tr>\n",
       "  </tbody>\n",
       "</table>\n",
       "</div>"
      ],
      "text/plain": [
       "    playerID  yearID_x teamID_x_x lgID_x_x  stint_x teamID_y_x lgID_y_x  G_x   AB_x   R_x    H_x  2B_x  3B_x    HR  RBI_x  SB_x  CS_x  BB_x   SO_x  IBB_x  HBP_x  SH_x  SF_x  GIDP_x      BA_x BAbin_x HRbin_x RBIbin_x BBbin_x SObin_x  maxsalary  yearID_y teamID_x_y lgID_x_y  stint_y teamID_y_y lgID_y_y  G_y   AB_y   R_y    H_y  2B_y  3B_y  RBI_y  SB_y  CS_y  BB_y   SO_y  IBB_y  HBP_y  SH_y  SF_y  GIDP_y      BA_y BAbin_y HRbin_y RBIbin_y BBbin_y SObin_y  maxHR\n",
       "0  abreubo01      2011        LAA       AL        1        LAA       AL  142  502.0  54.0  127.0  30.0   1.0   8.0   60.0  21.0   5.0  78.0  113.0    5.0    1.0   1.0   3.0     8.0  0.252988     3rd     4th      2nd     1st     2nd    9000000      2010        LAA       AL        1        LAA       AL  154  573.0  88.0  146.0  41.0   1.0   78.0  24.0  10.0  87.0  132.0    3.0    2.0   0.0   5.0    13.0  0.254799     3rd     2nd      1st     1st     1st   20.0\n",
       "1  abreujo02      2015        CHA       AL        1        CHA       AL  154  613.0  88.0  178.0  34.0   3.0  30.0  101.0   0.0   0.0  39.0  140.0   11.0   15.0   0.0   1.0    16.0  0.290375     1st     1st      1st     3rd     1st    8666000      2014        CHA       AL        1        CHA       AL  145  556.0  80.0  176.0  35.0   2.0  107.0   3.0   1.0  51.0  131.0   15.0   11.0   0.0   4.0    14.0  0.316547     1st     1st      1st     2nd     1st   36.0\n",
       "2  ackledu01      2013        SEA       AL        1        SEA       AL  113  384.0  40.0   97.0  18.0   2.0   4.0   31.0   2.0   3.0  37.0   72.0    1.0    1.0   4.0   1.0     6.0  0.252604     3rd     5th      4th     3rd     4th    2700000      2014        SEA       AL        1        SEA       AL  143  502.0  64.0  123.0  27.0   4.0   65.0   8.0   4.0  32.0   90.0    1.0    3.0   3.0   2.0    10.0  0.245020     4th     2nd      2nd     3rd     3rd   14.0\n",
       "3  adamsma01      2014        SLN       NL        1        SLN       NL  142  527.0  55.0  152.0  34.0   5.0  15.0   68.0   3.0   2.0  26.0  114.0    5.0    3.0   0.0   7.0     9.0  0.288425     1st     2nd      2nd     4th     1st     516000      2013        SLN       NL        1        SLN       NL  108  296.0  46.0   84.0  14.0   0.0   51.0   0.0   1.0  23.0   80.0    0.0    0.0   0.0   0.0     9.0  0.283784     2nd     2nd      3rd     4th     3rd   17.0\n",
       "4  ahmedni01      2015        ARI       NL        1        ARI       NL  134  421.0  49.0   95.0  17.0   6.0   9.0   34.0   4.0   5.0  29.0   81.0    1.0    1.0   5.0   3.0     4.0  0.225653     5th     4th      4th     4th     3rd     508500      2015        ARI       NL        1        ARI       NL  134  421.0  49.0   95.0  17.0   6.0   34.0   4.0   5.0  29.0   81.0    1.0    1.0   5.0   3.0     4.0  0.225653     5th     4th      4th     4th     3rd    9.0"
      ]
     },
     "execution_count": 229,
     "metadata": {},
     "output_type": "execute_result"
    }
   ],
   "source": [
    "#function to merge max salary with other max batting matrices dataframe, separately.\n",
    "def merge_max(df):\n",
    "    return sorted_batting_salary_max.merge(df, on=['playerID'], how='inner')\n",
    "\n",
    "batting_n_salaries_maxBA_last5yrs = merge_max(sorted_batting_BA_max)\n",
    "batting_n_salaries_maxHR_last5yrs = merge_max(sorted_batting_HR_max)\n",
    "batting_n_salaries_maxRBI_last5yrs = merge_max(sorted_batting_RBI_max)\n",
    "batting_n_salaries_maxSO_last5yrs = merge_max(sorted_batting_SO_max)\n",
    "batting_n_salaries_maxBB_last5yrs = merge_max(sorted_batting_BB_max)\n",
    "\n",
    "batting_n_salaries_maxHR_last5yrs.head()"
   ]
  },
  {
   "cell_type": "code",
   "execution_count": 230,
   "metadata": {
    "collapsed": false
   },
   "outputs": [],
   "source": [
    "#Use binning funciton to bin batting matrices.\n",
    "batting_n_salaries_maxBA_last5yrs['maxBAbin'] = binning(batting_n_salaries_maxBA_last5yrs['maxBA'])\n",
    "batting_n_salaries_maxHR_last5yrs['maxHRbin'] = binning(batting_n_salaries_maxHR_last5yrs['maxHR'])\n",
    "batting_n_salaries_maxRBI_last5yrs['maxRBIbin'] = binning(batting_n_salaries_maxRBI_last5yrs['maxRBI'])\n",
    "batting_n_salaries_maxSO_last5yrs['maxSObin'] = binning(batting_n_salaries_maxSO_last5yrs['maxSO'])\n",
    "batting_n_salaries_maxBB_last5yrs['maxBBbin'] = binning(batting_n_salaries_maxBB_last5yrs['maxBB'])"
   ]
  },
  {
   "cell_type": "markdown",
   "metadata": {},
   "source": [
    "###<font color='red'>Use binned values to plot (dot plot)"
   ]
  },
  {
   "cell_type": "code",
   "execution_count": 232,
   "metadata": {
    "collapsed": false
   },
   "outputs": [
    {
     "data": {
      "text/plain": [
       "<matplotlib.text.Text at 0x1292d5410>"
      ]
     },
     "execution_count": 232,
     "metadata": {},
     "output_type": "execute_result"
    },
    {
     "data": {
      "image/png": "[encoded data removed]",
      "text/plain": [
       "<matplotlib.figure.Figure at 0x1291518d0>"
      ]
     },
     "metadata": {},
     "output_type": "display_data"
    }
   ],
   "source": [
    "maxsalaryBAbinaxs = batting_n_salaries_maxBA_last5yrs.groupby('maxBAbin').mean()['maxsalary']\n",
    "axsmaxBAbin = maxsalaryBAbinaxs.plot(x='maxBAbin', y='maxsalary', style='o')\n",
    "\n",
    "axsmaxBAbin.set_ylim(000000,12000000)\n",
    "axsmaxBAbin.set_xlabel(\"max BA quintile\")\n",
    "axsmaxBAbin.set_ylabel(\"max salary\")\n",
    "axsmaxBAbin.axhline(y=5050966.57435,xmin=0,xmax=3,c=\"blue\",linewidth=0.5,zorder=0)\n",
    "axsmaxBAbin.set_title('max BA quintiles vs max salary')"
   ]
  },
  {
   "cell_type": "code",
   "execution_count": 233,
   "metadata": {
    "collapsed": false
   },
   "outputs": [
    {
     "data": {
      "text/plain": [
       "<matplotlib.text.Text at 0x12ef1e250>"
      ]
     },
     "execution_count": 233,
     "metadata": {},
     "output_type": "execute_result"
    },
    {
     "data": {
      "image/png": "[encoded data removed]",
      "text/plain": [
       "<matplotlib.figure.Figure at 0x12925e250>"
      ]
     },
     "metadata": {},
     "output_type": "display_data"
    }
   ],
   "source": [
    "maxsalaryHRbinaxs = batting_n_salaries_maxHR_last5yrs.groupby('maxHRbin').mean()['maxsalary']\n",
    "axsmaxHRbin = maxsalaryHRbinaxs.plot(x='maxHRbin', y='maxsalary', style='o')\n",
    "\n",
    "axsmaxHRbin.set_ylim(000000,15000000)\n",
    "axsmaxHRbin.set_xlabel(\"max HR quintile\")\n",
    "axsmaxHRbin.set_ylabel(\"max salary\")\n",
    "axsmaxHRbin.axhline(y=5050966.57435,xmin=0,xmax=3,c=\"blue\",linewidth=0.5,zorder=0)\n",
    "axsmaxHRbin.set_title('max HR quintiles vs max salary')"
   ]
  },
  {
   "cell_type": "code",
   "execution_count": 234,
   "metadata": {
    "collapsed": false
   },
   "outputs": [
    {
     "data": {
      "text/plain": [
       "<matplotlib.text.Text at 0x1300f0b10>"
      ]
     },
     "execution_count": 234,
     "metadata": {},
     "output_type": "execute_result"
    },
    {
     "data": {
      "image/png": "[encoded data removed]",
      "text/plain": [
       "<matplotlib.figure.Figure at 0x12ef51f50>"
      ]
     },
     "metadata": {},
     "output_type": "display_data"
    }
   ],
   "source": [
    "maxsalaryRBIbinaxs = batting_n_salaries_maxRBI_last5yrs.groupby('maxRBIbin').mean()['maxsalary']\n",
    "axsmaxRBIbin = maxsalaryRBIbinaxs.plot(x='maxRBIbin', y='maxsalary', style='o')\n",
    "\n",
    "axsmaxRBIbin.set_ylim(000000,15000000)\n",
    "axsmaxRBIbin.set_xlabel(\"max RBI quintile\")\n",
    "axsmaxRBIbin.set_ylabel(\"max salary\")\n",
    "axsmaxRBIbin.axhline(y=5050966.57435,xmin=0,xmax=3,c=\"blue\",linewidth=0.5,zorder=0)\n",
    "axsmaxRBIbin.set_title('max RBI quintiles vs max salary')"
   ]
  },
  {
   "cell_type": "code",
   "execution_count": 235,
   "metadata": {
    "collapsed": false
   },
   "outputs": [
    {
     "data": {
      "text/plain": [
       "<matplotlib.text.Text at 0x13028cdd0>"
      ]
     },
     "execution_count": 235,
     "metadata": {},
     "output_type": "execute_result"
    },
    {
     "data": {
      "image/png": "[encoded data removed]",
      "text/plain": [
       "<matplotlib.figure.Figure at 0x130180850>"
      ]
     },
     "metadata": {},
     "output_type": "display_data"
    }
   ],
   "source": [
    "maxsalarySObinaxs = batting_n_salaries_maxSO_last5yrs.groupby('maxSObin').mean()['maxsalary']\n",
    "axsmaxSObin = maxsalarySObinaxs.plot(x='maxSObin', y='maxsalary', style='o')\n",
    "\n",
    "axsmaxSObin.set_ylim(000000,15000000)\n",
    "axsmaxSObin.set_xlabel(\"max SO quintile\")\n",
    "axsmaxSObin.set_ylabel(\"max salary\")\n",
    "axsmaxSObin.axhline(y=5050966.57435,xmin=0,xmax=3,c=\"blue\",linewidth=0.5,zorder=0)\n",
    "axsmaxSObin.set_title('max SO quintiles vs max salary')"
   ]
  },
  {
   "cell_type": "code",
   "execution_count": 236,
   "metadata": {
    "collapsed": false,
    "scrolled": true
   },
   "outputs": [
    {
     "data": {
      "text/plain": [
       "<matplotlib.text.Text at 0x13053a910>"
      ]
     },
     "execution_count": 236,
     "metadata": {},
     "output_type": "execute_result"
    },
    {
     "data": {
      "image/png": "[encoded data removed]",
      "text/plain": [
       "<matplotlib.figure.Figure at 0x12348d7d0>"
      ]
     },
     "metadata": {},
     "output_type": "display_data"
    }
   ],
   "source": [
    "maxsalaryBBbinaxs = batting_n_salaries_maxBB_last5yrs.groupby('maxBBbin').mean()['maxsalary']\n",
    "axsmaxBBbin = maxsalaryBBbinaxs.plot(x='maxBBbin', y='maxsalary', style='o')\n",
    "\n",
    "axsmaxBBbin.set_ylim(000000,15000000)\n",
    "axsmaxBBbin.set_xlabel(\"max BB quintile\")\n",
    "axsmaxBBbin.set_ylabel(\"max salary\")\n",
    "axsmaxBBbin.axhline(y=5050966.57435,xmin=0,xmax=3,c=\"blue\",linewidth=0.5,zorder=0)\n",
    "axsmaxBBbin.set_title('max BB quintiles vs max salary')"
   ]
  },
  {
   "cell_type": "markdown",
   "metadata": {},
   "source": [
    "###<font color='red'> Use binned values to plot (box plot)"
   ]
  },
  {
   "cell_type": "code",
   "execution_count": 237,
   "metadata": {
    "collapsed": false
   },
   "outputs": [
    {
     "data": {
      "text/plain": [
       "<matplotlib.axes._subplots.AxesSubplot at 0x1292f5a90>"
      ]
     },
     "execution_count": 237,
     "metadata": {},
     "output_type": "execute_result"
    },
    {
     "data": {
      "image/png": "[encoded data removed]",
      "text/plain": [
       "<matplotlib.figure.Figure at 0x12eabb810>"
      ]
     },
     "metadata": {},
     "output_type": "display_data"
    }
   ],
   "source": [
    "#boxplotBAbin = maxsalaryBAbinaxs(['maxsalary','maxBAbin'])\n",
    "# XXX = batting_n_salaries_maxBA_last5yrs.groupby('maxBAbin').T\n",
    "# XXX.boxplot(column = 'maxsalary')\n",
    "# df2 = batting_n_salaries_maxBA_last5yrs.pivot(columns=batting_n_salaries_maxBA_last5yrs.columns[maxBAbin], index=batting_n_salaries_maxBA_last5yrs.index)\n",
    "# df2.columns = df2.columns.droplevel()\n",
    "# df2.boxplot()\n",
    "#grouped = batting_n_salaries_maxBA_last5yrs['maxsalary'].groupby(level='maxBAbin').T\n",
    "batting_n_salaries_maxBA_last5yrs.boxplot(column='maxsalary', by='maxBAbin')\n",
    "# data.boxplot(column='2013-08-17',by='SPECIES')"
   ]
  },
  {
   "cell_type": "code",
   "execution_count": 238,
   "metadata": {
    "collapsed": false
   },
   "outputs": [
    {
     "data": {
      "text/plain": [
       "<matplotlib.axes._subplots.AxesSubplot at 0x1309cfd10>"
      ]
     },
     "execution_count": 238,
     "metadata": {},
     "output_type": "execute_result"
    },
    {
     "data": {
      "image/png": "[encoded data removed]",
      "text/plain": [
       "<matplotlib.figure.Figure at 0x12ed903d0>"
      ]
     },
     "metadata": {},
     "output_type": "display_data"
    }
   ],
   "source": [
    "batting_n_salaries_maxHR_last5yrs.boxplot(column='maxsalary', by='maxHRbin')"
   ]
  },
  {
   "cell_type": "code",
   "execution_count": 239,
   "metadata": {
    "collapsed": false
   },
   "outputs": [
    {
     "data": {
      "text/plain": [
       "<matplotlib.axes._subplots.AxesSubplot at 0x1309cfc10>"
      ]
     },
     "execution_count": 239,
     "metadata": {},
     "output_type": "execute_result"
    },
    {
     "data": {
      "image/png": "[encoded data removed]",
      "text/plain": [
       "<matplotlib.figure.Figure at 0x130812650>"
      ]
     },
     "metadata": {},
     "output_type": "display_data"
    }
   ],
   "source": [
    "batting_n_salaries_maxRBI_last5yrs.boxplot(column='maxsalary', by='maxRBIbin')"
   ]
  },
  {
   "cell_type": "code",
   "execution_count": 240,
   "metadata": {
    "collapsed": false
   },
   "outputs": [
    {
     "data": {
      "text/plain": [
       "<matplotlib.axes._subplots.AxesSubplot at 0x1310990d0>"
      ]
     },
     "execution_count": 240,
     "metadata": {},
     "output_type": "execute_result"
    },
    {
     "data": {
      "image/png": "[encoded data removed]",
      "text/plain": [
       "<matplotlib.figure.Figure at 0x130a12c10>"
      ]
     },
     "metadata": {},
     "output_type": "display_data"
    }
   ],
   "source": [
    "batting_n_salaries_maxBB_last5yrs.boxplot(column='maxsalary', by='maxBBbin')"
   ]
  },
  {
   "cell_type": "code",
   "execution_count": 241,
   "metadata": {
    "collapsed": false
   },
   "outputs": [
    {
     "data": {
      "text/plain": [
       "<matplotlib.axes._subplots.AxesSubplot at 0x131242d90>"
      ]
     },
     "execution_count": 241,
     "metadata": {},
     "output_type": "execute_result"
    },
    {
     "data": {
      "image/png": "[encoded data removed]",
      "text/plain": [
       "<matplotlib.figure.Figure at 0x131099210>"
      ]
     },
     "metadata": {},
     "output_type": "display_data"
    }
   ],
   "source": [
    "batting_n_salaries_maxSO_last5yrs.boxplot(column='maxsalary', by='maxSObin')"
   ]
  },
  {
   "cell_type": "markdown",
   "metadata": {
    "collapsed": true
   },
   "source": [
    "##Conclusion 4:\n",
    ">###Consistent with both 1.) Pearson's R test for max batting stats and max salary, and 2.) binned plots for avg. batting stats/salary,  the max batting stats in the first and second quintiles consistently placed in the above max salary.\n"
   ]
  },
  {
   "cell_type": "markdown",
   "metadata": {
    "collapsed": true
   },
   "source": [
    "##Final conclusion:\n",
    ">###It is reproducibly demonstrated, via binned batting stats vs. salary plot, that higher the Pearson's R test values results in a stronger correlation between the tested batting stat's impact on salary.  <font color='red'>In addition, all the correlations tested are significant (p = 0.05).<font color='black'>  However, depending on how the batting stats data are processed for Pearson's R test (in this case, avg. values vs. max values),there may be slight differences in the ranking.  This excercise indicates that some stats has a higher correlation with salary amount than other stats.  It is also consistent with realworld baseball in that a stat such as strikeouts(SO) has the lowest Pearson's R test values since SO is a negative performance stat.  <font color='red'> As above, this does not indicate that having higher said stat in isolation will directly result in higher salary, since other stats are not constant for each player while this analysis was performed, as well as unforseen events not detected in our data/tests."
   ]
  },
  {
   "cell_type": "markdown",
   "metadata": {
    "collapsed": true
   },
   "source": [
    "#<font color='red'>Future Directions: \n",
    ">##<font color='red'>It would be interesting to ask how effective are the player batting stats, in the context of the population's average batting stats and per salary basis.\n",
    ">##<font color='red'>For example, we can try to use the formula below ,where the absolute value of standardized salary is divided by standardized batting stats, to give arbitrary unit for the positive/negative performance of the player's batting stats, per the amount of money paid."
   ]
  },
  {
   "cell_type": "markdown",
   "metadata": {},
   "source": [
    "###<font color='red'>Code used for calculating batting stats efficienacy for each batting data entry."
   ]
  },
  {
   "cell_type": "code",
   "execution_count": 177,
   "metadata": {
    "collapsed": false
   },
   "outputs": [
    {
     "data": {
      "text/html": [
       "<div>\n",
       "<table border=\"1\" class=\"dataframe\">\n",
       "  <thead>\n",
       "    <tr style=\"text-align: right;\">\n",
       "      <th></th>\n",
       "      <th>yearID</th>\n",
       "      <th>teamID_x</th>\n",
       "      <th>lgID_x</th>\n",
       "      <th>playerID</th>\n",
       "      <th>salary</th>\n",
       "      <th>stint</th>\n",
       "      <th>teamID_y</th>\n",
       "      <th>lgID_y</th>\n",
       "      <th>G</th>\n",
       "      <th>AB</th>\n",
       "      <th>R</th>\n",
       "      <th>H</th>\n",
       "      <th>2B</th>\n",
       "      <th>3B</th>\n",
       "      <th>HR</th>\n",
       "      <th>RBI</th>\n",
       "      <th>SB</th>\n",
       "      <th>CS</th>\n",
       "      <th>BB</th>\n",
       "      <th>SO</th>\n",
       "      <th>IBB</th>\n",
       "      <th>HBP</th>\n",
       "      <th>SH</th>\n",
       "      <th>SF</th>\n",
       "      <th>GIDP</th>\n",
       "      <th>BA</th>\n",
       "      <th>BA_per_$</th>\n",
       "      <th>HR_per_$</th>\n",
       "      <th>RBI_per_$</th>\n",
       "      <th>BA_cost_Unit</th>\n",
       "      <th>HR_cost_Unit</th>\n",
       "      <th>RBI_cost_Unit</th>\n",
       "    </tr>\n",
       "  </thead>\n",
       "  <tbody>\n",
       "    <tr>\n",
       "      <th>0</th>\n",
       "      <td>2010</td>\n",
       "      <td>ARI</td>\n",
       "      <td>NL</td>\n",
       "      <td>drewst01</td>\n",
       "      <td>3400000</td>\n",
       "      <td>1</td>\n",
       "      <td>ARI</td>\n",
       "      <td>NL</td>\n",
       "      <td>151</td>\n",
       "      <td>565.0</td>\n",
       "      <td>83.0</td>\n",
       "      <td>157.0</td>\n",
       "      <td>33.0</td>\n",
       "      <td>12.0</td>\n",
       "      <td>15.0</td>\n",
       "      <td>61.0</td>\n",
       "      <td>10.0</td>\n",
       "      <td>5.0</td>\n",
       "      <td>62.0</td>\n",
       "      <td>108.0</td>\n",
       "      <td>2.0</td>\n",
       "      <td>3.0</td>\n",
       "      <td>2.0</td>\n",
       "      <td>1.0</td>\n",
       "      <td>7.0</td>\n",
       "      <td>0.277876</td>\n",
       "      <td>0.273680</td>\n",
       "      <td>1.630362</td>\n",
       "      <td>0.800172</td>\n",
       "      <td>0.523144</td>\n",
       "      <td>1.276856</td>\n",
       "      <td>0.894523</td>\n",
       "    </tr>\n",
       "    <tr>\n",
       "      <th>1</th>\n",
       "      <td>2010</td>\n",
       "      <td>ARI</td>\n",
       "      <td>NL</td>\n",
       "      <td>johnske05</td>\n",
       "      <td>2350000</td>\n",
       "      <td>1</td>\n",
       "      <td>ARI</td>\n",
       "      <td>NL</td>\n",
       "      <td>154</td>\n",
       "      <td>585.0</td>\n",
       "      <td>93.0</td>\n",
       "      <td>166.0</td>\n",
       "      <td>36.0</td>\n",
       "      <td>5.0</td>\n",
       "      <td>26.0</td>\n",
       "      <td>71.0</td>\n",
       "      <td>13.0</td>\n",
       "      <td>7.0</td>\n",
       "      <td>79.0</td>\n",
       "      <td>148.0</td>\n",
       "      <td>1.0</td>\n",
       "      <td>2.0</td>\n",
       "      <td>3.0</td>\n",
       "      <td>2.0</td>\n",
       "      <td>12.0</td>\n",
       "      <td>0.283761</td>\n",
       "      <td>0.411713</td>\n",
       "      <td>0.113655</td>\n",
       "      <td>0.431947</td>\n",
       "      <td>0.641648</td>\n",
       "      <td>0.337128</td>\n",
       "      <td>0.657227</td>\n",
       "    </tr>\n",
       "    <tr>\n",
       "      <th>2</th>\n",
       "      <td>2010</td>\n",
       "      <td>ARI</td>\n",
       "      <td>NL</td>\n",
       "      <td>larocad01</td>\n",
       "      <td>4500000</td>\n",
       "      <td>1</td>\n",
       "      <td>ARI</td>\n",
       "      <td>NL</td>\n",
       "      <td>151</td>\n",
       "      <td>560.0</td>\n",
       "      <td>75.0</td>\n",
       "      <td>146.0</td>\n",
       "      <td>37.0</td>\n",
       "      <td>2.0</td>\n",
       "      <td>25.0</td>\n",
       "      <td>100.0</td>\n",
       "      <td>0.0</td>\n",
       "      <td>1.0</td>\n",
       "      <td>48.0</td>\n",
       "      <td>172.0</td>\n",
       "      <td>4.0</td>\n",
       "      <td>3.0</td>\n",
       "      <td>0.0</td>\n",
       "      <td>4.0</td>\n",
       "      <td>8.0</td>\n",
       "      <td>0.260714</td>\n",
       "      <td>43.828413</td>\n",
       "      <td>0.005542</td>\n",
       "      <td>0.002664</td>\n",
       "      <td>6.620303</td>\n",
       "      <td>0.074446</td>\n",
       "      <td>0.051612</td>\n",
       "    </tr>\n",
       "    <tr>\n",
       "      <th>3</th>\n",
       "      <td>2010</td>\n",
       "      <td>ARI</td>\n",
       "      <td>NL</td>\n",
       "      <td>montemi01</td>\n",
       "      <td>2000000</td>\n",
       "      <td>1</td>\n",
       "      <td>ARI</td>\n",
       "      <td>NL</td>\n",
       "      <td>85</td>\n",
       "      <td>297.0</td>\n",
       "      <td>36.0</td>\n",
       "      <td>79.0</td>\n",
       "      <td>20.0</td>\n",
       "      <td>2.0</td>\n",
       "      <td>9.0</td>\n",
       "      <td>43.0</td>\n",
       "      <td>0.0</td>\n",
       "      <td>1.0</td>\n",
       "      <td>29.0</td>\n",
       "      <td>71.0</td>\n",
       "      <td>3.0</td>\n",
       "      <td>2.0</td>\n",
       "      <td>0.0</td>\n",
       "      <td>3.0</td>\n",
       "      <td>10.0</td>\n",
       "      <td>0.265993</td>\n",
       "      <td>8.801977</td>\n",
       "      <td>1.654756</td>\n",
       "      <td>1.872549</td>\n",
       "      <td>2.966813</td>\n",
       "      <td>-1.286373</td>\n",
       "      <td>-1.368411</td>\n",
       "    </tr>\n",
       "    <tr>\n",
       "      <th>4</th>\n",
       "      <td>2010</td>\n",
       "      <td>ARI</td>\n",
       "      <td>NL</td>\n",
       "      <td>parrage01</td>\n",
       "      <td>405500</td>\n",
       "      <td>1</td>\n",
       "      <td>ARI</td>\n",
       "      <td>NL</td>\n",
       "      <td>133</td>\n",
       "      <td>364.0</td>\n",
       "      <td>31.0</td>\n",
       "      <td>95.0</td>\n",
       "      <td>19.0</td>\n",
       "      <td>6.0</td>\n",
       "      <td>3.0</td>\n",
       "      <td>30.0</td>\n",
       "      <td>1.0</td>\n",
       "      <td>0.0</td>\n",
       "      <td>23.0</td>\n",
       "      <td>76.0</td>\n",
       "      <td>10.0</td>\n",
       "      <td>2.0</td>\n",
       "      <td>3.0</td>\n",
       "      <td>1.0</td>\n",
       "      <td>8.0</td>\n",
       "      <td>0.260989</td>\n",
       "      <td>1230.880171</td>\n",
       "      <td>0.592225</td>\n",
       "      <td>0.806514</td>\n",
       "      <td>35.083902</td>\n",
       "      <td>-0.769562</td>\n",
       "      <td>-0.898061</td>\n",
       "    </tr>\n",
       "  </tbody>\n",
       "</table>\n",
       "</div>"
      ],
      "text/plain": [
       "   yearID teamID_x lgID_x   playerID   salary  stint teamID_y lgID_y    G     AB     R      H    2B    3B    HR    RBI    SB   CS    BB     SO   IBB  HBP   SH   SF  GIDP        BA     BA_per_$  HR_per_$  RBI_per_$  BA_cost_Unit  HR_cost_Unit  RBI_cost_Unit\n",
       "0    2010      ARI     NL   drewst01  3400000      1      ARI     NL  151  565.0  83.0  157.0  33.0  12.0  15.0   61.0  10.0  5.0  62.0  108.0   2.0  3.0  2.0  1.0   7.0  0.277876     0.273680  1.630362   0.800172      0.523144      1.276856       0.894523\n",
       "1    2010      ARI     NL  johnske05  2350000      1      ARI     NL  154  585.0  93.0  166.0  36.0   5.0  26.0   71.0  13.0  7.0  79.0  148.0   1.0  2.0  3.0  2.0  12.0  0.283761     0.411713  0.113655   0.431947      0.641648      0.337128       0.657227\n",
       "2    2010      ARI     NL  larocad01  4500000      1      ARI     NL  151  560.0  75.0  146.0  37.0   2.0  25.0  100.0   0.0  1.0  48.0  172.0   4.0  3.0  0.0  4.0   8.0  0.260714    43.828413  0.005542   0.002664      6.620303      0.074446       0.051612\n",
       "3    2010      ARI     NL  montemi01  2000000      1      ARI     NL   85  297.0  36.0   79.0  20.0   2.0   9.0   43.0   0.0  1.0  29.0   71.0   3.0  2.0  0.0  3.0  10.0  0.265993     8.801977  1.654756   1.872549      2.966813     -1.286373      -1.368411\n",
       "4    2010      ARI     NL  parrage01   405500      1      ARI     NL  133  364.0  31.0   95.0  19.0   6.0   3.0   30.0   1.0  0.0  23.0   76.0  10.0  2.0  3.0  1.0   8.0  0.260989  1230.880171  0.592225   0.806514     35.083902     -0.769562      -0.898061"
      ]
     },
     "execution_count": 177,
     "metadata": {},
     "output_type": "execute_result"
    }
   ],
   "source": [
    "xSalary = batting_n_salaries_last5yrs['salary']\n",
    "yBA = batting_n_salaries_last5yrs['BA']\n",
    "yHR = batting_n_salaries_last5yrs['HR']\n",
    "yRBI = batting_n_salaries_last5yrs['RBI']\n",
    "batting_n_salaries_last5yrs['BA_cost_Unit'] = abs((((xSalary-xSalary.mean())/xSalary.std(ddof=0))))/ ((yBA-yBA.mean())/yBA.std(ddof=0))\n",
    "batting_n_salaries_last5yrs['HR_cost_Unit'] = abs((((xSalary-xSalary.mean())/xSalary.std(ddof=0))))/ ((yHR-yHR.mean())/yHR.std(ddof=0))\n",
    "batting_n_salaries_last5yrs['RBI_cost_Unit'] = abs((((xSalary-xSalary.mean())/xSalary.std(ddof=0))))/ ((yRBI-yRBI.mean())/yRBI.std(ddof=0))\n",
    "batting_n_salaries_last5yrs.head()"
   ]
  }
 ],
 "metadata": {
  "kernelspec": {
   "display_name": "Python 2",
   "language": "python",
   "name": "python2"
  },
  "language_info": {
   "codemirror_mode": {
    "name": "ipython",
    "version": 2
   },
   "file_extension": ".py",
   "mimetype": "text/x-python",
   "name": "python",
   "nbconvert_exporter": "python",
   "pygments_lexer": "ipython2",
   "version": "2.7.12"
  }
 },
 "nbformat": 4,
 "nbformat_minor": 0
}
